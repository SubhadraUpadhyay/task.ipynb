{
 "cells": [
  {
   "cell_type": "markdown",
   "metadata": {},
   "source": [
    "Building logic with if"
   ]
  },
  {
   "cell_type": "code",
   "execution_count": 1,
   "metadata": {},
   "outputs": [
    {
     "name": "stdout",
     "output_type": "stream",
     "text": [
      "you see a apple seller\n"
     ]
    }
   ],
   "source": [
    "print('you see a apple seller')\n",
    "q = input('do you like apples')\n",
    "if q == 'yes':\n",
    "    print('purches 2kg of apples')\n",
    "if q == 'no':\n",
    "    print('you dont purches apples')"
   ]
  },
  {
   "cell_type": "code",
   "execution_count": 2,
   "metadata": {},
   "outputs": [
    {
     "name": "stdout",
     "output_type": "stream",
     "text": [
      "x is greater than 5\n",
      "this is the info we needed\n",
      "with this power, comes responsibility\n",
      "the end\n"
     ]
    }
   ],
   "source": [
    "X = 10\n",
    "if  X > 5:\n",
    "    print('x is greater than 5')\n",
    "    print('this is the info we needed')\n",
    "    print('with this power, comes responsibility')\n",
    "print('the end')"
   ]
  },
  {
   "cell_type": "markdown",
   "metadata": {},
   "source": [
    "Python if else Statement Syntax"
   ]
  },
  {
   "cell_type": "code",
   "execution_count": 3,
   "metadata": {},
   "outputs": [
    {
     "ename": "ValueError",
     "evalue": "could not convert string to float: ''",
     "output_type": "error",
     "traceback": [
      "\u001b[1;31m---------------------------------------------------------------------------\u001b[0m",
      "\u001b[1;31mValueError\u001b[0m                                Traceback (most recent call last)",
      "\u001b[1;32mc:\\Users\\ANURAG UPADHYAY\\Documents\\digi\\conditions.ipynb Cell 5'\u001b[0m in \u001b[0;36m<module>\u001b[1;34m\u001b[0m\n\u001b[1;32m----> <a href='vscode-notebook-cell:/c%3A/Users/ANURAG%20UPADHYAY/Documents/digi/conditions.ipynb#ch0000004?line=0'>1</a>\u001b[0m temp \u001b[39m=\u001b[39m \u001b[39mfloat\u001b[39;49m(\u001b[39minput\u001b[39;49m(\u001b[39m'\u001b[39;49m\u001b[39mwhat is the temperature\u001b[39;49m\u001b[39m'\u001b[39;49m))\n\u001b[0;32m      <a href='vscode-notebook-cell:/c%3A/Users/ANURAG%20UPADHYAY/Documents/digi/conditions.ipynb#ch0000004?line=1'>2</a>\u001b[0m \u001b[39mif\u001b[39;00m temp \u001b[39m>\u001b[39m \u001b[39m70\u001b[39m:\n\u001b[0;32m      <a href='vscode-notebook-cell:/c%3A/Users/ANURAG%20UPADHYAY/Documents/digi/conditions.ipynb#ch0000004?line=2'>3</a>\u001b[0m     \u001b[39mprint\u001b[39m(\u001b[39m'\u001b[39m\u001b[39mwear short.\u001b[39m\u001b[39m'\u001b[39m)\n",
      "\u001b[1;31mValueError\u001b[0m: could not convert string to float: ''"
     ]
    }
   ],
   "source": [
    "temp = float(input('what is the temperature'))\n",
    "if temp > 70:\n",
    "    print('wear short.')\n",
    "else:\n",
    "    print('wear long plants.')\n",
    "print('get some exercies outside.')"
   ]
  },
  {
   "cell_type": "markdown",
   "metadata": {},
   "source": [
    "The elif Statement"
   ]
  },
  {
   "cell_type": "code",
   "execution_count": null,
   "metadata": {},
   "outputs": [
    {
     "name": "stdout",
     "output_type": "stream",
     "text": [
      "A\n"
     ]
    }
   ],
   "source": [
    "score = int(input('your score ->'))\n",
    "if score >= 90:\n",
    "    letter = 'A'\n",
    "elif score >= 80:\n",
    "    letter = 'B'\n",
    "elif score >= 70:\n",
    "    letter = 'C'\n",
    "elif score >= 60:\n",
    "    letter = 'D'\n",
    "else:\n",
    "    letter = 'F'\n",
    "print (letter)"
   ]
  },
  {
   "cell_type": "markdown",
   "metadata": {},
   "source": [
    "If-Then-Else in One Line"
   ]
  },
  {
   "cell_type": "code",
   "execution_count": null,
   "metadata": {},
   "outputs": [
    {
     "name": "stdout",
     "output_type": "stream",
     "text": [
      "42\n"
     ]
    }
   ],
   "source": [
    "# one-liner alternative 1:\n",
    "if 42 in range (100): print(\"42\")"
   ]
  },
  {
   "cell_type": "code",
   "execution_count": null,
   "metadata": {},
   "outputs": [
    {
     "name": "stdout",
     "output_type": "stream",
     "text": [
      "alice\n"
     ]
    }
   ],
   "source": [
    "# one-liner alternative 2:\n",
    "X = \"alice\" if \"Jon\" in \"my name is Jones\" else \"Bob\"\n",
    "print(X)"
   ]
  },
  {
   "cell_type": "code",
   "execution_count": null,
   "metadata": {},
   "outputs": [
    {
     "name": "stdout",
     "output_type": "stream",
     "text": [
      "brown\n"
     ]
    }
   ],
   "source": [
    "print('yellow') if \"Y\" in \"orange\" else print(\"brown\")"
   ]
  },
  {
   "cell_type": "code",
   "execution_count": null,
   "metadata": {},
   "outputs": [
    {
     "name": "stdout",
     "output_type": "stream",
     "text": [
      "32\n"
     ]
    }
   ],
   "source": [
    "# one- liner alternative 3:\n",
    "print(\"42\") if 42 in [33, 44,66] else print (\"32\")"
   ]
  },
  {
   "cell_type": "code",
   "execution_count": null,
   "metadata": {},
   "outputs": [
    {
     "name": "stdout",
     "output_type": "stream",
     "text": [
      "The provided number is odd\n"
     ]
    }
   ],
   "source": [
    "num = int (input (\"Enter any number to test whether it is odd or even:\"))\n",
    "if (num % 2) == 0:\n",
    "    print (\"The number is even\")\n",
    "else:\n",
    "    print (\"The provided number is odd\")"
   ]
  },
  {
   "cell_type": "code",
   "execution_count": null,
   "metadata": {},
   "outputs": [
    {
     "name": "stdout",
     "output_type": "stream",
     "text": [
      "good morning\n"
     ]
    }
   ],
   "source": [
    "print(\"good morning\")"
   ]
  },
  {
   "cell_type": "code",
   "execution_count": null,
   "metadata": {},
   "outputs": [],
   "source": [
    "def check_if_equal(list_1, list_2):\n",
    "    \"\"\" Check if both the lists are of same length and if yes then compare\n",
    "    sorted versions of both the list to check if both of them are equal\n",
    "    i.e. contain similar elements with same frequency. \"\"\"\n",
    "    if len(list_1) != len(list_2):\n",
    "        return False\n",
    "    return sorted(list_1) == sorted(list_2)"
   ]
  },
  {
   "cell_type": "code",
   "execution_count": null,
   "metadata": {},
   "outputs": [
    {
     "name": "stdout",
     "output_type": "stream",
     "text": [
      "Lists are equal i.e. contain similar elements with same frequency\n"
     ]
    }
   ],
   "source": [
    "first_list = [10, 10, 11, 12, 12, 13, 14, 16, 15, 16, 12]\n",
    "sec_list = [16, 12, 13, 14, 15, 16, 10, 11, 12, 10, 12]\n",
    "if check_if_equal(first_list, sec_list):\n",
    "    print('Lists are equal i.e. contain similar elements with same frequency')\n",
    "else:\n",
    "    print('Lists are not equal')"
   ]
  },
  {
   "cell_type": "code",
   "execution_count": null,
   "metadata": {},
   "outputs": [
    {
     "name": "stdout",
     "output_type": "stream",
     "text": [
      "[1, 2]\n"
     ]
    }
   ],
   "source": [
    "list1 = [1, 2, 4]\n",
    "list2 = [4, 5, 6]\n",
    "\n",
    "list_difference = []\n",
    "for item in list1:\n",
    "  if item not in list2:\n",
    "    list_difference.append(item)\n",
    "\n",
    "print(list_difference)"
   ]
  },
  {
   "cell_type": "code",
   "execution_count": null,
   "metadata": {},
   "outputs": [
    {
     "name": "stdout",
     "output_type": "stream",
     "text": [
      "[1, 2]\n"
     ]
    }
   ],
   "source": [
    "list1 = [1, 2, 4]\n",
    "list2 = [4, 5, 6]\n",
    "\n",
    "list_difference = []\n",
    "for item in list1:\n",
    "  if item not in list2:\n",
    "    list_difference.append(item)\n",
    "\n",
    "print(list_difference)"
   ]
  },
  {
   "cell_type": "code",
   "execution_count": null,
   "metadata": {},
   "outputs": [
    {
     "name": "stdout",
     "output_type": "stream",
     "text": [
      "Lists are equal i.e. contain similar elements with same frequency\n"
     ]
    }
   ],
   "source": [
    "import collections\n",
    "def check_if_equal_2(list_1, list_2):\n",
    "    \"\"\" Check if both the lists are of same length and then get the frequency\n",
    "    of each element in list using collections.Counter. Then Compare if both the Counter\n",
    "    objects are equal or not to confirm if lists contain similar elements with same frequency\"\"\"\n",
    "    if len(list_1) != len(list_2):\n",
    "        return False\n",
    "    return collections.Counter(list_1) == collections.Counter(list_2)\n",
    "first_list = [10, 10, 11, 12, 12, 13, 14, 16, 15, 16, 12]\n",
    "sec_list = [16, 12, 13, 14, 15, 16, 10, 11, 12, 10, 12]\n",
    "if check_if_equal_2(first_list, sec_list):\n",
    "    print('Lists are equal i.e. contain similar elements with same frequency')\n",
    "else:\n",
    "    print('Lists are not equal')\n",
    "    \n"
   ]
  },
  {
   "cell_type": "code",
   "execution_count": null,
   "metadata": {},
   "outputs": [
    {
     "name": "stdout",
     "output_type": "stream",
     "text": [
      "Lists are exactly equal\n"
     ]
    }
   ],
   "source": [
    "first_list = [10, 11, 12, 13, 14, 15, 16]\n",
    "sec_list = [10, 11, 12, 13, 14, 15, 16]\n",
    "if first_list == sec_list:\n",
    "    print('Lists are exactly equal')\n",
    "else:\n",
    "    print('Lists are not equal')\n"
   ]
  },
  {
   "cell_type": "code",
   "execution_count": null,
   "metadata": {},
   "outputs": [],
   "source": []
  }
 ],
 "metadata": {
  "interpreter": {
   "hash": "dca92524b078aa222a0bed5aa292c1720541a13394a9b315a2edda4fd221f2d7"
  },
  "kernelspec": {
   "display_name": "Python 3.9.5 64-bit ('base': conda)",
   "language": "python",
   "name": "python3"
  },
  "language_info": {
   "codemirror_mode": {
    "name": "ipython",
    "version": 3
   },
   "file_extension": ".py",
   "mimetype": "text/x-python",
   "name": "python",
   "nbconvert_exporter": "python",
   "pygments_lexer": "ipython3",
   "version": "3.9.5"
  },
  "orig_nbformat": 4
 },
 "nbformat": 4,
 "nbformat_minor": 2
}
