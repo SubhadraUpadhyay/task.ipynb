{
 "cells": [
  {
   "cell_type": "markdown",
   "metadata": {},
   "source": [
    "# set\n",
    "- set is **mutable** `(items can be changed during execution)`\n",
    "- set is heterogenous `(mixed data can be stored)`\n",
    "- set can have **unique** values\n",
    "- set is **unindexed** and **unordered** `(item have indexes and can be sliced)`\n",
    "- set uses { } brackets with values inside it seperated with commas\n",
    "- to create empty we have to use set()\n",
    "- set can only store immutable datatype value (numbers. string, tuples,etc)"
   ]
  },
  {
   "cell_type": "markdown",
   "metadata": {},
   "source": [
    "# what to learn\n",
    "#### creating a set ✔\n",
    "#### traversal (looping) ✔\n",
    "#### function ✔\n",
    "#### conversion between list/tuple/set"
   ]
  },
  {
   "cell_type": "code",
   "execution_count": null,
   "metadata": {},
   "outputs": [
    {
     "name": "stdout",
     "output_type": "stream",
     "text": [
      "set() {1, 2, 3, 4} {1, 2, 3, 4}\n"
     ]
    }
   ],
   "source": [
    "a = set() # empty\n",
    "b = {1,2,3,4}\n",
    "c = set([1,2,3,4])\n",
    "print(a,b,c)"
   ]
  },
  {
   "cell_type": "code",
   "execution_count": null,
   "metadata": {},
   "outputs": [
    {
     "data": {
      "text/plain": [
       "{1}"
      ]
     },
     "execution_count": 5,
     "metadata": {},
     "output_type": "execute_result"
    }
   ],
   "source": [
    "a.add(1)\n",
    "a"
   ]
  },
  {
   "cell_type": "code",
   "execution_count": null,
   "metadata": {},
   "outputs": [
    {
     "name": "stdout",
     "output_type": "stream",
     "text": [
      "{1, 2, 3, 5, 667, 44}\n"
     ]
    }
   ],
   "source": [
    "d = {1,2,3,2,1,2,2,2,2,1,2,3,1,5,44,667}\n",
    "print(d)"
   ]
  },
  {
   "cell_type": "code",
   "execution_count": null,
   "metadata": {},
   "outputs": [],
   "source": [
    "d.remove(2)"
   ]
  },
  {
   "cell_type": "code",
   "execution_count": null,
   "metadata": {},
   "outputs": [
    {
     "name": "stdout",
     "output_type": "stream",
     "text": [
      "{'33', '3', '93'}\n"
     ]
    }
   ],
   "source": [
    "X = set()\n",
    "for i in range(5):\n",
    "    val = input (\"Enter a value:\")\n",
    "    X.add(val)\n",
    "print(X)"
   ]
  },
  {
   "cell_type": "code",
   "execution_count": null,
   "metadata": {},
   "outputs": [
    {
     "data": {
      "text/plain": [
       "{1, 2, 3, 4}"
      ]
     },
     "execution_count": 9,
     "metadata": {},
     "output_type": "execute_result"
    }
   ],
   "source": [
    "b"
   ]
  },
  {
   "cell_type": "code",
   "execution_count": null,
   "metadata": {},
   "outputs": [
    {
     "name": "stdout",
     "output_type": "stream",
     "text": [
      "1\n",
      "2\n",
      "3\n",
      "4\n"
     ]
    }
   ],
   "source": [
    "for i in b:\n",
    "    print(i)"
   ]
  },
  {
   "cell_type": "code",
   "execution_count": null,
   "metadata": {},
   "outputs": [
    {
     "name": "stdout",
     "output_type": "stream",
     "text": [
      "33 3 93 "
     ]
    }
   ],
   "source": [
    "for name in X:\n",
    "    print(name,end= ' ')"
   ]
  },
  {
   "cell_type": "markdown",
   "metadata": {},
   "source": [
    "### functions\n",
    "- adding values\n",
    "     - add()       #(it add only one values)\n",
    "     - update()    #(it add multiple va;lues at a times )\n",
    "- removing values\n",
    "     - remove()\n",
    "     - discard() 👈\n",
    "     - pop()\n",
    "     - clear()\n",
    "- set operations\n",
    "     - union()\n",
    "     - intersection()\n",
    "     - difference()\n",
    "     - symmetric_difference()\n",
    "     - is_superset()\n",
    "     - is_subset()\n",
    "     - is_disjoint()"
   ]
  },
  {
   "cell_type": "code",
   "execution_count": null,
   "metadata": {},
   "outputs": [],
   "source": [
    "sa = {1,2,3,4,5}\n",
    "sb = {2,7,8,8,9,5}"
   ]
  },
  {
   "cell_type": "code",
   "execution_count": null,
   "metadata": {},
   "outputs": [
    {
     "name": "stdout",
     "output_type": "stream",
     "text": [
      "{1, 2, 3, 4, 5, 7, 8, 9}\n",
      "{1, 2, 3, 4, 5, 7, 8, 9}\n"
     ]
    }
   ],
   "source": [
    "print(sb. union(sa))\n",
    "print(sa | sb) # & oprator is union"
   ]
  },
  {
   "cell_type": "code",
   "execution_count": null,
   "metadata": {},
   "outputs": [
    {
     "name": "stdout",
     "output_type": "stream",
     "text": [
      "{2, 5}\n",
      "{1, 3, 4}\n"
     ]
    }
   ],
   "source": [
    "print(sb.intersection(sa))\n",
    "print(sa - sb) # & oprator is intersection"
   ]
  },
  {
   "cell_type": "code",
   "execution_count": null,
   "metadata": {},
   "outputs": [
    {
     "name": "stdout",
     "output_type": "stream",
     "text": [
      "{8, 9, 7}\n",
      "{1, 3, 4}\n"
     ]
    }
   ],
   "source": [
    "print(sb.difference(sa))\n",
    "print(sa - sb) # - oprator is differnce"
   ]
  },
  {
   "cell_type": "code",
   "execution_count": null,
   "metadata": {},
   "outputs": [
    {
     "name": "stdout",
     "output_type": "stream",
     "text": [
      "{1, 3, 4, 7, 8, 9}\n",
      "{1, 3, 4, 7, 8, 9}\n"
     ]
    }
   ],
   "source": [
    "print(sb.symmetric_difference(sa))\n",
    "print(sa ^ sb) # - oprator is symmetric differance"
   ]
  },
  {
   "cell_type": "code",
   "execution_count": null,
   "metadata": {},
   "outputs": [],
   "source": [
    "sc = (1,2,3,4,5,6,7,8,9,10)\n",
    "sd = (11,12,13)"
   ]
  },
  {
   "cell_type": "code",
   "execution_count": null,
   "metadata": {},
   "outputs": [
    {
     "data": {
      "text/plain": [
       "True"
      ]
     },
     "execution_count": 19,
     "metadata": {},
     "output_type": "execute_result"
    }
   ],
   "source": [
    "sa.issubset(sc) # true"
   ]
  },
  {
   "cell_type": "code",
   "execution_count": null,
   "metadata": {},
   "outputs": [
    {
     "data": {
      "text/plain": [
       "True"
      ]
     },
     "execution_count": 20,
     "metadata": {},
     "output_type": "execute_result"
    }
   ],
   "source": [
    "sb.issubset(sc)"
   ]
  },
  {
   "cell_type": "code",
   "execution_count": null,
   "metadata": {},
   "outputs": [],
   "source": [
    "sd.issubset(sc)"
   ]
  },
  {
   "cell_type": "markdown",
   "metadata": {},
   "source": [
    "wap to take 10 integers in a set from user and then display the sum of all values"
   ]
  },
  {
   "cell_type": "code",
   "execution_count": 21,
   "metadata": {},
   "outputs": [],
   "source": [
    "X = set()\n",
    "for i in range(10):\n",
    "    val = input(\"Enter a value\")\n",
    "    X.add(val)\n",
    "print(X)\n",
    "\n",
    "\n",
    "    "
   ]
  },
  {
   "cell_type": "code",
   "execution_count": null,
   "metadata": {},
   "outputs": [
    {
     "name": "stdout",
     "output_type": "stream",
     "text": [
      "{3, 4, 5, 6, 244}\n",
      "262\n"
     ]
    }
   ],
   "source": [
    "total = 0\n",
    "X = set()\n",
    "for i in range(10):\n",
    "    num = int(input(\"Enter a number:\"))\n",
    "    X.add(num)\n",
    "total = sum(X)\n",
    "print(X)\n",
    "print(total)\n"
   ]
  },
  {
   "cell_type": "code",
   "execution_count": null,
   "metadata": {},
   "outputs": [],
   "source": [
    "\n"
   ]
  }
 ],
 "metadata": {
  "interpreter": {
   "hash": "dca92524b078aa222a0bed5aa292c1720541a13394a9b315a2edda4fd221f2d7"
  },
  "kernelspec": {
   "display_name": "Python 3.9.5 ('base')",
   "language": "python",
   "name": "python3"
  },
  "language_info": {
   "codemirror_mode": {
    "name": "ipython",
    "version": 3
   },
   "file_extension": ".py",
   "mimetype": "text/x-python",
   "name": "python",
   "nbconvert_exporter": "python",
   "pygments_lexer": "ipython3",
   "version": "3.9.5"
  },
  "orig_nbformat": 4
 },
 "nbformat": 4,
 "nbformat_minor": 2
}
