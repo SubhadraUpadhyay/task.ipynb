{
 "cells": [
  {
   "cell_type": "code",
   "execution_count": 1,
   "metadata": {},
   "outputs": [],
   "source": [
    "X = 20\n",
    "Y = 30\n",
    "Z = \"Apples\""
   ]
  },
  {
   "cell_type": "code",
   "execution_count": 2,
   "metadata": {},
   "outputs": [
    {
     "data": {
      "text/plain": [
       "'Apples'"
      ]
     },
     "execution_count": 2,
     "metadata": {},
     "output_type": "execute_result"
    }
   ],
   "source": [
    "X\n",
    "Y\n",
    "Z"
   ]
  },
  {
   "cell_type": "code",
   "execution_count": 4,
   "metadata": {},
   "outputs": [
    {
     "name": "stdout",
     "output_type": "stream",
     "text": [
      "Today it rained\n"
     ]
    }
   ],
   "source": [
    "print (\"Today it rained\")  # formated output"
   ]
  },
  {
   "cell_type": "code",
   "execution_count": 9,
   "metadata": {},
   "outputs": [
    {
     "name": "stdout",
     "output_type": "stream",
     "text": [
      "20\n",
      "30\n",
      "Apples\n"
     ]
    }
   ],
   "source": [
    "print(X)\n",
    "print(Y)\n",
    "print(Z)"
   ]
  },
  {
   "cell_type": "code",
   "execution_count": 10,
   "metadata": {},
   "outputs": [
    {
     "name": "stdout",
     "output_type": "stream",
     "text": [
      "20 30 Apples saare ke saare\n"
     ]
    }
   ],
   "source": [
    "print(X, Y, Z, \"saare ke saare\")"
   ]
  },
  {
   "cell_type": "code",
   "execution_count": 10,
   "metadata": {},
   "outputs": [
    {
     "name": "stdout",
     "output_type": "stream",
     "text": [
      "Apple Banana Cherry Orange Mango pineapple\n"
     ]
    }
   ],
   "source": [
    "print(\"Apple\",\"Banana\",\"Cherry\",\"Orange\",\"Mango\",\"pineapple\")"
   ]
  },
  {
   "cell_type": "markdown",
   "metadata": {},
   "source": [
    "How to display text mixed with variables\n",
    "- comma seperated\n",
    "- format specifier\n",
    "- using + asconcatenation\n",
    "- using + format()function\n",
    "- using f-string (from version 3.6)"
   ]
  },
  {
   "cell_type": "code",
   "execution_count": 15,
   "metadata": {},
   "outputs": [],
   "source": [
    "lang = \"python\"\n",
    "ic = \"easy\"\n",
    "version = \"3.10\"\n",
    "creator = \"Guido Von Rossum\""
   ]
  },
  {
   "cell_type": "markdown",
   "metadata": {},
   "source": [
    "Comma Seperated"
   ]
  },
  {
   "cell_type": "code",
   "execution_count": 16,
   "metadata": {},
   "outputs": [
    {
     "name": "stdout",
     "output_type": "stream",
     "text": [
      "python is an easy languge created by Guido Von Rossum the current version is 3.10\n"
     ]
    }
   ],
   "source": [
    "print(lang,\"is an\",ic,\"languge created by\",creator,\"the current version is\",version)"
   ]
  },
  {
   "cell_type": "code",
   "execution_count": 4,
   "metadata": {},
   "outputs": [
    {
     "name": "stdout",
     "output_type": "stream",
     "text": [
      "Hello to the word 123\n"
     ]
    }
   ],
   "source": [
    "var1 = 123\n",
    "var2 = 'word'\n",
    "print (\"Hello to the\" , var2, var1)"
   ]
  },
  {
   "cell_type": "markdown",
   "metadata": {},
   "source": [
    "comma seperated"
   ]
  },
  {
   "cell_type": "code",
   "execution_count": 2,
   "metadata": {},
   "outputs": [
    {
     "name": "stdout",
     "output_type": "stream",
     "text": [
      "%s is an %s language created by %s, the current version is %s\n"
     ]
    }
   ],
   "source": [
    "print('%s is an %s language created by %s, the current version is %s')"
   ]
  },
  {
   "cell_type": "markdown",
   "metadata": {},
   "source": [
    "using + asconcatenation"
   ]
  },
  {
   "cell_type": "code",
   "execution_count": 17,
   "metadata": {},
   "outputs": [
    {
     "name": "stdout",
     "output_type": "stream",
     "text": [
      "python is an easy language created by Guido Von Rossum the current version is 3.10\n"
     ]
    }
   ],
   "source": [
    "print('{} is an {} language created by {} the current version is {}'.format(lang,ic,creator,version))"
   ]
  },
  {
   "cell_type": "markdown",
   "metadata": {},
   "source": [
    "using + format()function"
   ]
  },
  {
   "cell_type": "code",
   "execution_count": 5,
   "metadata": {},
   "outputs": [
    {
     "name": "stdout",
     "output_type": "stream",
     "text": [
      "Good Morning\n"
     ]
    }
   ],
   "source": [
    "print(\"Good Morning\")"
   ]
  },
  {
   "cell_type": "markdown",
   "metadata": {},
   "source": [
    "the better way to create and print message in python is f-string introduced in version3.6"
   ]
  },
  {
   "cell_type": "code",
   "execution_count": 7,
   "metadata": {},
   "outputs": [],
   "source": [
    "a = input(\"enter the value for a=>\")"
   ]
  },
  {
   "cell_type": "code",
   "execution_count": 21,
   "metadata": {},
   "outputs": [
    {
     "name": "stdout",
     "output_type": "stream",
     "text": [
      "raja babu raja babu 19 were given\n",
      "<class 'str'> <class 'str'>\n"
     ]
    }
   ],
   "source": [
    "name = input('enter ur name')\n",
    "age = input('enput ur age') \n",
    "print(name,age, 'were given')\n",
    "print(type(name), type(age))"
   ]
  },
  {
   "cell_type": "code",
   "execution_count": 25,
   "metadata": {},
   "outputs": [
    {
     "name": "stdout",
     "output_type": "stream",
     "text": [
      "38\n"
     ]
    }
   ],
   "source": [
    "temp = int(input(\"enter temperature in degree\"))\n",
    "print(temp+19)"
   ]
  },
  {
   "cell_type": "code",
   "execution_count": 27,
   "metadata": {},
   "outputs": [
    {
     "data": {
      "text/plain": [
       "51"
      ]
     },
     "execution_count": 27,
     "metadata": {},
     "output_type": "execute_result"
    }
   ],
   "source": [
    "a = int (input('Enter A:'))\n",
    "b = int (input('Enter B:'))\n",
    "a+b"
   ]
  },
  {
   "cell_type": "code",
   "execution_count": null,
   "metadata": {},
   "outputs": [],
   "source": []
  }
 ],
 "metadata": {
  "interpreter": {
   "hash": "dca92524b078aa222a0bed5aa292c1720541a13394a9b315a2edda4fd221f2d7"
  },
  "kernelspec": {
   "display_name": "Python 3.9.5 64-bit ('base': conda)",
   "language": "python",
   "name": "python3"
  },
  "language_info": {
   "codemirror_mode": {
    "name": "ipython",
    "version": 3
   },
   "file_extension": ".py",
   "mimetype": "text/x-python",
   "name": "python",
   "nbconvert_exporter": "python",
   "pygments_lexer": "ipython3",
   "version": "3.9.5"
  },
  "orig_nbformat": 4
 },
 "nbformat": 4,
 "nbformat_minor": 2
}
