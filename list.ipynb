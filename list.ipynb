{
 "cells": [
  {
   "cell_type": "markdown",
   "metadata": {},
   "source": [
    "### List\n",
    "- list is mutable (item,add,remove)\n",
    "- list is heterogenous (mixed data can be stored)\n",
    "- list can have duplicate values\n",
    "- list is indexed (item have indexes and can be sliced)\n",
    "- list uses [ ] brackets with values inside it seperated with commas"
   ]
  },
  {
   "cell_type": "markdown",
   "metadata": {},
   "source": [
    "### what to learn \n",
    "- ### creating a list\n",
    "- ### indexing n slicing\n",
    "- ### traversal (looping)\n",
    "- ### function(11)\n",
    "- ### comprehension\n",
    "- ### lambda, map and filter"
   ]
  },
  {
   "cell_type": "code",
   "execution_count": 38,
   "metadata": {},
   "outputs": [],
   "source": [
    "# list of strings\n",
    "names = [\"Kaladin\", \"Adolin\", \"Dalinar\", \"wit\", \"Shallan\", \"Navan\"]\n",
    "#list of numbers\n",
    "factors = [1, 2, 3, 5, 15, 25, 100]\n",
    "# mixed data list\n",
    "info = ['Ravi',90,102,93,29,44,\"B\",False,5.786]\n",
    "# nested list\n",
    "c2d = [[1,2,3,],[3,4,5,6,7],[2,1]]\n",
    "\n",
    "#list from function\n",
    "fact = \"iceube sites in its own blood\"\n",
    "words = fact.split()"
   ]
  },
  {
   "cell_type": "code",
   "execution_count": 39,
   "metadata": {},
   "outputs": [
    {
     "name": "stdout",
     "output_type": "stream",
     "text": [
      "[1, 1, 1, 1, 1, 1, 1, 1, 1, 1]\n"
     ]
    }
   ],
   "source": [
    "# quick list hack with some values\n",
    "X = [1] * 10\n",
    "print(X)"
   ]
  },
  {
   "cell_type": "code",
   "execution_count": 40,
   "metadata": {},
   "outputs": [
    {
     "name": "stdout",
     "output_type": "stream",
     "text": [
      "[2, 3, 4, 2, 3, 4, 2, 3, 4, 2, 3, 4, 2, 3, 4, 2, 3, 4, 2, 3, 4, 2, 3, 4, 2, 3, 4, 2, 3, 4]\n"
     ]
    }
   ],
   "source": [
    "X = [2,3,4,]*10\n",
    "print(X)"
   ]
  },
  {
   "cell_type": "code",
   "execution_count": 41,
   "metadata": {},
   "outputs": [
    {
     "name": "stdout",
     "output_type": "stream",
     "text": [
      "[10, '', 9, 100]\n"
     ]
    }
   ],
   "source": [
    "# list from variables\n",
    "a = 10\n",
    "b = ''\n",
    "c = 9\n",
    "x = 100\n",
    "l = [a,b,c,x]\n",
    "print(l)\n"
   ]
  },
  {
   "cell_type": "code",
   "execution_count": 42,
   "metadata": {},
   "outputs": [],
   "source": [
    "Kharche = [] # empty list\n"
   ]
  },
  {
   "cell_type": "code",
   "execution_count": 43,
   "metadata": {},
   "outputs": [
    {
     "name": "stdout",
     "output_type": "stream",
     "text": [
      "[100]\n",
      "[100, 200]\n",
      "[100, 200, 300]\n"
     ]
    }
   ],
   "source": [
    "Kharche.append(100)\n",
    "print(Kharche)\n",
    "Kharche.append(200)\n",
    "print(Kharche)\n",
    "Kharche.append(300)\n",
    "print(Kharche)\n",
    "\n"
   ]
  },
  {
   "cell_type": "code",
   "execution_count": 44,
   "metadata": {},
   "outputs": [
    {
     "name": "stdout",
     "output_type": "stream",
     "text": [
      "['4', '4', '4']\n"
     ]
    }
   ],
   "source": [
    "fav_foods = []\n",
    "for i in range(3):\n",
    "    food = input(\"enter name of ur fav food=>\")\n",
    "    fav_foods.append(food)\n",
    "print(fav_foods)"
   ]
  },
  {
   "cell_type": "code",
   "execution_count": 45,
   "metadata": {},
   "outputs": [
    {
     "name": "stdout",
     "output_type": "stream",
     "text": [
      "[1, 2, 3, 4, 5, 6, 7, 8, 9, 10, 11, 12, 13, 14, 15, 16, 17, 18, 19, 20, 21, 22, 23, 24, 25, 26, 27, 28, 29, 30, 31, 32, 33, 34, 35, 36, 37, 38, 39, 40, 41, 42, 43, 44, 45, 46, 47, 48, 49, 50, 51, 52, 53, 54, 55, 56, 57, 58, 59, 60, 61, 62, 63, 64, 65, 66, 67, 68, 69, 70, 71, 72, 73, 74, 75, 76, 77, 78, 79, 80, 81, 82, 83, 84, 85, 86, 87, 88, 89, 90, 91, 92, 93, 94, 95, 96, 97, 98, 99]\n"
     ]
    }
   ],
   "source": [
    "nums = []\n",
    "for i in range(1,100):\n",
    "    nums.append(i)\n",
    "print(nums)"
   ]
  },
  {
   "cell_type": "code",
   "execution_count": 46,
   "metadata": {},
   "outputs": [
    {
     "data": {
      "text/plain": [
       "'Dalinar'"
      ]
     },
     "execution_count": 46,
     "metadata": {},
     "output_type": "execute_result"
    }
   ],
   "source": [
    "names[2]"
   ]
  },
  {
   "cell_type": "code",
   "execution_count": 47,
   "metadata": {},
   "outputs": [
    {
     "data": {
      "text/plain": [
       "'own'"
      ]
     },
     "execution_count": 47,
     "metadata": {},
     "output_type": "execute_result"
    }
   ],
   "source": [
    "words[-2]\n",
    "\n"
   ]
  },
  {
   "cell_type": "code",
   "execution_count": 48,
   "metadata": {},
   "outputs": [
    {
     "data": {
      "text/plain": [
       "'blood'"
      ]
     },
     "execution_count": 48,
     "metadata": {},
     "output_type": "execute_result"
    }
   ],
   "source": [
    "words[5]"
   ]
  },
  {
   "cell_type": "code",
   "execution_count": 49,
   "metadata": {},
   "outputs": [
    {
     "data": {
      "text/plain": [
       "'Shallan'"
      ]
     },
     "execution_count": 49,
     "metadata": {},
     "output_type": "execute_result"
    }
   ],
   "source": [
    "names[4]"
   ]
  },
  {
   "cell_type": "code",
   "execution_count": 50,
   "metadata": {},
   "outputs": [],
   "source": [
    "c2d = [[1,2,3,],[3,4,5,6,7],[2,1]]\n"
   ]
  },
  {
   "cell_type": "markdown",
   "metadata": {},
   "source": [
    "### functions\n",
    "### adding items\n",
    "    - append\n",
    "    - insert\n",
    "    - extend\n",
    " ### delete items\n",
    "    - remove\n",
    "    - pop\n",
    "    - clear\n",
    "### utility func\n",
    "    - reverse\n",
    "    - sort\n",
    "    - count\n",
    "    - index\n",
    "    - copy\n",
    "\n"
   ]
  },
  {
   "cell_type": "code",
   "execution_count": 51,
   "metadata": {},
   "outputs": [
    {
     "data": {
      "text/plain": [
       "['apple', 'banana', 'cherry', 'guava']"
      ]
     },
     "execution_count": 51,
     "metadata": {},
     "output_type": "execute_result"
    }
   ],
   "source": [
    "fruits = []\n",
    "fruits.append(\"apple\")\n",
    "fruits.append(\"banana\")\n",
    "fruits.append(\"cherry\")\n",
    "fruits.append(\"guava\")\n",
    "fruits"
   ]
  },
  {
   "cell_type": "code",
   "execution_count": 52,
   "metadata": {},
   "outputs": [
    {
     "data": {
      "text/plain": [
       "['apple', 'banana', 'cherry', 'fig', 'guava']"
      ]
     },
     "execution_count": 52,
     "metadata": {},
     "output_type": "execute_result"
    }
   ],
   "source": [
    "fruits.insert(-1, 'fig')\n",
    "fruits"
   ]
  },
  {
   "cell_type": "code",
   "execution_count": 53,
   "metadata": {},
   "outputs": [
    {
     "data": {
      "text/plain": [
       "['apple', 'banana', 'cherry', 'dragonfruit', 'fig', 'guava']"
      ]
     },
     "execution_count": 53,
     "metadata": {},
     "output_type": "execute_result"
    }
   ],
   "source": [
    "fruits.insert(-2, 'dragonfruit')\n",
    "fruits"
   ]
  },
  {
   "cell_type": "code",
   "execution_count": 54,
   "metadata": {},
   "outputs": [
    {
     "data": {
      "text/plain": [
       "['apple', 'avocado', 'banana', 'cherry', 'dragonfruit', 'fig', 'guava']"
      ]
     },
     "execution_count": 54,
     "metadata": {},
     "output_type": "execute_result"
    }
   ],
   "source": [
    "fruits.insert(1, 'avocado')\n",
    "fruits"
   ]
  },
  {
   "cell_type": "code",
   "execution_count": 55,
   "metadata": {},
   "outputs": [],
   "source": [
    "fruits.append('1,2')"
   ]
  },
  {
   "cell_type": "code",
   "execution_count": 56,
   "metadata": {},
   "outputs": [
    {
     "data": {
      "text/plain": [
       "['apple',\n",
       " 'avocado',\n",
       " 'banana',\n",
       " 'cherry',\n",
       " 'dragonfruit',\n",
       " 'fig',\n",
       " 'guava',\n",
       " '1,2',\n",
       " 'rotten apple']"
      ]
     },
     "execution_count": 56,
     "metadata": {},
     "output_type": "execute_result"
    }
   ],
   "source": [
    "fruits.insert(100,'rotten apple')\n",
    "fruits"
   ]
  },
  {
   "cell_type": "code",
   "execution_count": 57,
   "metadata": {},
   "outputs": [
    {
     "data": {
      "text/plain": [
       "['Almond', 'cashew', 'walnut']"
      ]
     },
     "execution_count": 57,
     "metadata": {},
     "output_type": "execute_result"
    }
   ],
   "source": [
    "dry_fruits = ['Almond','cashew','walnut']\n",
    "dry_fruits"
   ]
  },
  {
   "cell_type": "code",
   "execution_count": 58,
   "metadata": {},
   "outputs": [
    {
     "data": {
      "text/plain": [
       "['apple',\n",
       " 'avocado',\n",
       " 'banana',\n",
       " 'cherry',\n",
       " 'dragonfruit',\n",
       " 'fig',\n",
       " 'guava',\n",
       " '1,2',\n",
       " 'rotten apple',\n",
       " 'Almond',\n",
       " 'cashew',\n",
       " 'walnut']"
      ]
     },
     "execution_count": 58,
     "metadata": {},
     "output_type": "execute_result"
    }
   ],
   "source": [
    "fruits.extend(dry_fruits)\n",
    "fruits\n"
   ]
  },
  {
   "cell_type": "code",
   "execution_count": 59,
   "metadata": {},
   "outputs": [
    {
     "data": {
      "text/plain": [
       "12"
      ]
     },
     "execution_count": 59,
     "metadata": {},
     "output_type": "execute_result"
    }
   ],
   "source": [
    "len(fruits)"
   ]
  },
  {
   "cell_type": "code",
   "execution_count": 60,
   "metadata": {},
   "outputs": [
    {
     "data": {
      "text/plain": [
       "['apple',\n",
       " 'avocado',\n",
       " 'banana',\n",
       " 'cherry',\n",
       " 'dragonfruit',\n",
       " 'fig',\n",
       " 'guava',\n",
       " '1,2',\n",
       " 'rotten apple',\n",
       " 'Almond',\n",
       " 'cashew',\n",
       " 'walnut']"
      ]
     },
     "execution_count": 60,
     "metadata": {},
     "output_type": "execute_result"
    }
   ],
   "source": [
    "fruits"
   ]
  },
  {
   "cell_type": "code",
   "execution_count": 61,
   "metadata": {},
   "outputs": [
    {
     "name": "stdout",
     "output_type": "stream",
     "text": [
      "['apple', 'avocado', 'banana', 'cherry', 'dragonfruit', 'fig', 'guava', '1,2', 'Almond', 'cashew', 'walnut']\n"
     ]
    }
   ],
   "source": [
    "if 'rotten apple'in fruits:\n",
    "    fruits.remove('rotten apple')\n",
    "    print(fruits)\n",
    "else:\n",
    "    print('norotten appple found')"
   ]
  },
  {
   "cell_type": "code",
   "execution_count": 62,
   "metadata": {},
   "outputs": [],
   "source": [
    "if 'papaya'in fruits:\n",
    "    fruits.remove('papaya')"
   ]
  },
  {
   "cell_type": "code",
   "execution_count": 63,
   "metadata": {},
   "outputs": [
    {
     "data": {
      "text/plain": [
       "[1, 2, 3, [1, 2, 3, 4]]"
      ]
     },
     "execution_count": 63,
     "metadata": {},
     "output_type": "execute_result"
    }
   ],
   "source": [
    "X = [1,2,3,[1,2,3,4]]\n",
    "X"
   ]
  },
  {
   "cell_type": "markdown",
   "metadata": {},
   "source": [
    "pop can be used in 2 way\n",
    " - list.pop()  => remove the last value in the list and gives us that values\n",
    " - lis.pop(idx)  => remove the value from idx if idx is valid and gives the value\n"
   ]
  },
  {
   "cell_type": "code",
   "execution_count": 64,
   "metadata": {},
   "outputs": [
    {
     "name": "stdout",
     "output_type": "stream",
     "text": [
      "remived_value=> walnut\n",
      "list=> ['apple', 'avocado', 'banana', 'cherry', 'dragonfruit', 'fig', 'guava', '1,2', 'Almond', 'cashew']\n"
     ]
    }
   ],
   "source": [
    "v = fruits.pop()\n",
    "print('remived_value=>',v)\n",
    "print('list=>', fruits)"
   ]
  },
  {
   "cell_type": "code",
   "execution_count": 65,
   "metadata": {},
   "outputs": [
    {
     "name": "stdout",
     "output_type": "stream",
     "text": [
      "removed_value cherry\n",
      "list=> ['apple', 'avocado', 'banana', 'dragonfruit', 'fig', 'guava', '1,2', 'Almond', 'cashew']\n"
     ]
    }
   ],
   "source": [
    "v = fruits.pop(3)  # removeing from index 3\n",
    "print('removed_value',v)\n",
    "print('list=>',fruits)"
   ]
  },
  {
   "cell_type": "code",
   "execution_count": 66,
   "metadata": {},
   "outputs": [
    {
     "data": {
      "text/plain": [
       "[]"
      ]
     },
     "execution_count": 66,
     "metadata": {},
     "output_type": "execute_result"
    }
   ],
   "source": [
    "fruits.clear()\n",
    "fruits"
   ]
  },
  {
   "cell_type": "code",
   "execution_count": 67,
   "metadata": {},
   "outputs": [],
   "source": [
    "movies = [\n",
    "    'Badhai ho'\n",
    "    'pushpa'\n",
    "    'Bade ghar ki beti'\n",
    "    'Ak fool do maali'\n",
    "    'subhash chandra Bosh'\n",
    "    'Takdirval'\n",
    "]\n",
    "    "
   ]
  },
  {
   "cell_type": "code",
   "execution_count": 68,
   "metadata": {},
   "outputs": [
    {
     "name": "stdout",
     "output_type": "stream",
     "text": [
      "normal\n",
      " ['Badhai hopushpaBade ghar ki betiAk fool do maalisubhash chandra BoshTakdirval']\n",
      "reveres\n",
      " ['Badhai hopushpaBade ghar ki betiAk fool do maalisubhash chandra BoshTakdirval']\n"
     ]
    }
   ],
   "source": [
    "print(\"normal\\n\",movies)\n",
    "movies.reverse()\n",
    "print(\"reveres\\n\",movies)"
   ]
  },
  {
   "cell_type": "code",
   "execution_count": 69,
   "metadata": {},
   "outputs": [
    {
     "name": "stdout",
     "output_type": "stream",
     "text": [
      "['Badhai hopushpaBade ghar ki betiAk fool do maalisubhash chandra BoshTakdirval']\n"
     ]
    }
   ],
   "source": [
    "movies.sort()\n",
    "print(movies)"
   ]
  },
  {
   "cell_type": "code",
   "execution_count": 70,
   "metadata": {},
   "outputs": [
    {
     "name": "stdout",
     "output_type": "stream",
     "text": [
      "['Badhai hopushpaBade ghar ki betiAk fool do maalisubhash chandra BoshTakdirval']\n"
     ]
    }
   ],
   "source": [
    "movies.sort(reverse=True)\n",
    "print(movies)"
   ]
  },
  {
   "cell_type": "code",
   "execution_count": 71,
   "metadata": {},
   "outputs": [
    {
     "name": "stdout",
     "output_type": "stream",
     "text": [
      "['Badhai hopushpaBade ghar ki betiAk fool do maalisubhash chandra BoshTakdirval']\n"
     ]
    }
   ],
   "source": [
    "dup_mov = movies.copy()\n",
    "print(dup_mov)"
   ]
  },
  {
   "cell_type": "code",
   "execution_count": 72,
   "metadata": {},
   "outputs": [
    {
     "ename": "ValueError",
     "evalue": "'Bade ghar ki beti' is not in list",
     "output_type": "error",
     "traceback": [
      "\u001b[1;31m---------------------------------------------------------------------------\u001b[0m",
      "\u001b[1;31mValueError\u001b[0m                                Traceback (most recent call last)",
      "\u001b[1;32mc:\\Users\\ANURAG UPADHYAY\\Documents\\digi\\list.ipynb Cell 39'\u001b[0m in \u001b[0;36m<module>\u001b[1;34m\u001b[0m\n\u001b[1;32m----> <a href='vscode-notebook-cell:/c%3A/Users/ANURAG%20UPADHYAY/Documents/digi/list.ipynb#ch0000038?line=0'>1</a>\u001b[0m movies\u001b[39m.\u001b[39;49mindex(\u001b[39m'\u001b[39;49m\u001b[39mBade ghar ki beti\u001b[39;49m\u001b[39m'\u001b[39;49m)\n",
      "\u001b[1;31mValueError\u001b[0m: 'Bade ghar ki beti' is not in list"
     ]
    }
   ],
   "source": [
    "movies.index('Bade ghar ki beti')"
   ]
  },
  {
   "cell_type": "code",
   "execution_count": null,
   "metadata": {},
   "outputs": [
    {
     "ename": "ValueError",
     "evalue": "'Pushpa' is not in list",
     "output_type": "error",
     "traceback": [
      "\u001b[1;31m---------------------------------------------------------------------------\u001b[0m",
      "\u001b[1;31mValueError\u001b[0m                                Traceback (most recent call last)",
      "\u001b[1;32mc:\\Users\\ANURAG UPADHYAY\\Documents\\digi\\list.ipynb Cell 40'\u001b[0m in \u001b[0;36m<module>\u001b[1;34m\u001b[0m\n\u001b[1;32m----> <a href='vscode-notebook-cell:/c%3A/Users/ANURAG%20UPADHYAY/Documents/digi/list.ipynb#ch0000057?line=0'>1</a>\u001b[0m movies\u001b[39m.\u001b[39;49mindex(\u001b[39m'\u001b[39;49m\u001b[39mPushpa\u001b[39;49m\u001b[39m'\u001b[39;49m)\n",
      "\u001b[1;31mValueError\u001b[0m: 'Pushpa' is not in list"
     ]
    }
   ],
   "source": [
    "movies.index('Pushpa')"
   ]
  },
  {
   "cell_type": "code",
   "execution_count": null,
   "metadata": {},
   "outputs": [],
   "source": [
    "movies.reverse()"
   ]
  },
  {
   "cell_type": "code",
   "execution_count": null,
   "metadata": {},
   "outputs": [],
   "source": [
    "if 'Nobody'in movies:\n",
    "    print(movies.index('Nobody'))"
   ]
  },
  {
   "cell_type": "code",
   "execution_count": 1,
   "metadata": {},
   "outputs": [],
   "source": [
    "x = [1,2,1,2,3,1,2,3,1,2,3,1,2,]"
   ]
  },
  {
   "cell_type": "code",
   "execution_count": 2,
   "metadata": {},
   "outputs": [
    {
     "data": {
      "text/plain": [
       "5"
      ]
     },
     "execution_count": 2,
     "metadata": {},
     "output_type": "execute_result"
    }
   ],
   "source": [
    "x.count(1)"
   ]
  },
  {
   "cell_type": "code",
   "execution_count": 3,
   "metadata": {},
   "outputs": [
    {
     "data": {
      "text/plain": [
       "5"
      ]
     },
     "execution_count": 3,
     "metadata": {},
     "output_type": "execute_result"
    }
   ],
   "source": [
    "x.count(2)"
   ]
  },
  {
   "cell_type": "code",
   "execution_count": 4,
   "metadata": {},
   "outputs": [
    {
     "data": {
      "text/plain": [
       "3"
      ]
     },
     "execution_count": 4,
     "metadata": {},
     "output_type": "execute_result"
    }
   ],
   "source": [
    "x.count(3)"
   ]
  },
  {
   "cell_type": "code",
   "execution_count": 5,
   "metadata": {},
   "outputs": [
    {
     "data": {
      "text/plain": [
       "0"
      ]
     },
     "execution_count": 5,
     "metadata": {},
     "output_type": "execute_result"
    }
   ],
   "source": [
    "x.count(4)"
   ]
  },
  {
   "cell_type": "markdown",
   "metadata": {},
   "source": [
    "Wap to enter 15 number in list,then print the sum,min,max,mean,of that list"
   ]
  },
  {
   "cell_type": "code",
   "execution_count": null,
   "metadata": {},
   "outputs": [
    {
     "name": "stdout",
     "output_type": "stream",
     "text": [
      "sum of value =  44\n",
      "min value =  1\n",
      "max value =  8\n",
      "mean of value =  4.4\n"
     ]
    }
   ],
   "source": [
    "nums = []\n",
    "for i in range(5,15):\n",
    "    val = int(input(f'enter{i+1}number:'))\n",
    "    nums.append(val)\n",
    "\n",
    "print(\"sum of value = \", sum(nums))\n",
    "print(\"min value = \", min(nums))\n",
    "print(\"max value = \", max(nums))\n",
    "print(\"mean of value = \", sum(nums)/len(nums))"
   ]
  },
  {
   "cell_type": "code",
   "execution_count": null,
   "metadata": {},
   "outputs": [],
   "source": [
    "sum = 2"
   ]
  },
  {
   "cell_type": "code",
   "execution_count": null,
   "metadata": {},
   "outputs": [],
   "source": []
  },
  {
   "cell_type": "code",
   "execution_count": null,
   "metadata": {},
   "outputs": [],
   "source": []
  }
 ],
 "metadata": {
  "interpreter": {
   "hash": "dca92524b078aa222a0bed5aa292c1720541a13394a9b315a2edda4fd221f2d7"
  },
  "kernelspec": {
   "display_name": "Python 3.9.5 ('base')",
   "language": "python",
   "name": "python3"
  },
  "language_info": {
   "codemirror_mode": {
    "name": "ipython",
    "version": 3
   },
   "file_extension": ".py",
   "mimetype": "text/x-python",
   "name": "python",
   "nbconvert_exporter": "python",
   "pygments_lexer": "ipython3",
   "version": "3.9.5"
  },
  "orig_nbformat": 4
 },
 "nbformat": 4,
 "nbformat_minor": 2
}
