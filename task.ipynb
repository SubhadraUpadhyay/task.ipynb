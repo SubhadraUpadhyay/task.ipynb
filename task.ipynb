{
 "cells": [
  {
   "cell_type": "markdown",
   "metadata": {},
   "source": [
    "1. Create a string and print it."
   ]
  },
  {
   "cell_type": "code",
   "execution_count": 3,
   "metadata": {},
   "outputs": [
    {
     "name": "stdout",
     "output_type": "stream",
     "text": [
      "Upadhyay\n",
      "<class 'str'>\n"
     ]
    }
   ],
   "source": [
    "a = 'Upadhyay'\n",
    "print(a)\n",
    "print(type(a))"
   ]
  },
  {
   "cell_type": "markdown",
   "metadata": {},
   "source": [
    "2.Take a string inpiut and print it's length."
   ]
  },
  {
   "cell_type": "code",
   "execution_count": 4,
   "metadata": {},
   "outputs": [
    {
     "name": "stdout",
     "output_type": "stream",
     "text": [
      "7\n",
      "8\n",
      "5\n",
      "4\n"
     ]
    }
   ],
   "source": [
    "print(len('Pratima'))\n",
    "print(len('Upadhyay'))\n",
    "print(len('World'))\n",
    "size = len('hope')\n",
    "print(size)\n"
   ]
  },
  {
   "cell_type": "markdown",
   "metadata": {},
   "source": [
    "3. Print the last word of the string python is great using slices."
   ]
  },
  {
   "cell_type": "code",
   "execution_count": 2,
   "metadata": {},
   "outputs": [
    {
     "name": "stdout",
     "output_type": "stream",
     "text": [
      "great\n"
     ]
    }
   ],
   "source": [
    "s = 'Python is great'\n",
    "slice1 = s[-5:len(s)]\n",
    "slice2 = s[-5:]\n",
    "print(slice1)"
   ]
  },
  {
   "cell_type": "code",
   "execution_count": 3,
   "metadata": {},
   "outputs": [
    {
     "name": "stdout",
     "output_type": "stream",
     "text": [
      "great\n"
     ]
    }
   ],
   "source": [
    "slice1 = s[2:]\n",
    "print(slice2)"
   ]
  },
  {
   "cell_type": "markdown",
   "metadata": {},
   "source": [
    "4. print the each word in different line of string python is everywhere."
   ]
  },
  {
   "cell_type": "code",
   "execution_count": 4,
   "metadata": {},
   "outputs": [
    {
     "name": "stdout",
     "output_type": "stream",
     "text": [
      "Python\n",
      "is\n",
      "everywhere\n"
     ]
    }
   ],
   "source": [
    "str = 'Python is everywhere'\n",
    "for i in str.split():\n",
    "    print(i)\n",
    "\n"
   ]
  },
  {
   "cell_type": "markdown",
   "metadata": {},
   "source": [
    "5. Print the string Hello Word! in reverse."
   ]
  },
  {
   "cell_type": "code",
   "execution_count": 8,
   "metadata": {},
   "outputs": [
    {
     "name": "stdout",
     "output_type": "stream",
     "text": [
      "Hello Word\n"
     ]
    }
   ],
   "source": [
    "a = 'Hello Word'\n",
    "a[::1]\n",
    "print(a)\n"
   ]
  },
  {
   "cell_type": "code",
   "execution_count": 5,
   "metadata": {},
   "outputs": [
    {
     "name": "stdout",
     "output_type": "stream",
     "text": [
      "Hello word\n",
      "drow olleH\n"
     ]
    }
   ],
   "source": [
    "x = \"Hello word\"\n",
    "print(x)\n",
    "print(x[::-1])"
   ]
  },
  {
   "cell_type": "markdown",
   "metadata": {},
   "source": [
    "6.Convert the string How are you? in uppeecase."
   ]
  },
  {
   "cell_type": "code",
   "execution_count": 6,
   "metadata": {},
   "outputs": [
    {
     "name": "stdout",
     "output_type": "stream",
     "text": [
      "How are you\n",
      "HOW ARE YOU\n"
     ]
    }
   ],
   "source": [
    "x = \"How are you\"\n",
    "print(x)\n",
    "print(x.upper())"
   ]
  },
  {
   "cell_type": "markdown",
   "metadata": {},
   "source": [
    "7. Convert the string How Is It Going? in lowercase."
   ]
  },
  {
   "cell_type": "code",
   "execution_count": 7,
   "metadata": {},
   "outputs": [
    {
     "name": "stdout",
     "output_type": "stream",
     "text": [
      "How is it Going\n",
      "how is it going\n"
     ]
    }
   ],
   "source": [
    "x = \"How is it Going\"\n",
    "print(x)\n",
    "print(x.lower())"
   ]
  },
  {
   "cell_type": "markdown",
   "metadata": {},
   "source": [
    "8. Join the following list by spaces( ) and print the result.\n",
    "words = ['Python', 'is', 'easy', 'to', 'learn']"
   ]
  },
  {
   "cell_type": "code",
   "execution_count": 37,
   "metadata": {},
   "outputs": [
    {
     "name": "stdout",
     "output_type": "stream",
     "text": [
      "Python is easy to learn "
     ]
    }
   ],
   "source": [
    "words = 'Python', 'is', 'easy', 'to', 'learn'\n",
    "for i in words:\n",
    "    print(i,end=\" \")"
   ]
  },
  {
   "cell_type": "code",
   "execution_count": 4,
   "metadata": {},
   "outputs": [
    {
     "name": "stdout",
     "output_type": "stream",
     "text": [
      "apple banana somthing\n"
     ]
    }
   ],
   "source": [
    "output = ' '.join(['apple','banana','somthing'])\n",
    "print(output)"
   ]
  },
  {
   "cell_type": "markdown",
   "metadata": {},
   "source": [
    "9. Print a multiline string using a single print\n"
   ]
  },
  {
   "cell_type": "code",
   "execution_count": 16,
   "metadata": {},
   "outputs": [
    {
     "name": "stdout",
     "output_type": "stream",
     "text": [
      "I get up at past halfsix\n",
      "I get dressed and brush my teeth\n",
      "Make my bad and have my tea\n",
      "Kiss my mum for sandwiches \n"
     ]
    }
   ],
   "source": [
    "a = '''I get up at past halfsix\n",
    "I get dressed and brush my teeth\n",
    "Make my bad and have my tea\n",
    "Kiss my mum for sandwiches '''\n",
    "print(a)"
   ]
  },
  {
   "cell_type": "markdown",
   "metadata": {},
   "source": [
    "10. Print this string to move to newline '\\n' is used. (results should look exactly like the provided string)\n"
   ]
  },
  {
   "cell_type": "code",
   "execution_count": 9,
   "metadata": {},
   "outputs": [
    {
     "name": "stdout",
     "output_type": "stream",
     "text": [
      "move to newline '\n",
      "' is used\n"
     ]
    }
   ],
   "source": [
    "x = \"move to newline '\\n' is used\"\n",
    "print(x)"
   ]
  },
  {
   "cell_type": "markdown",
   "metadata": {},
   "source": [
    "11. Print a variable with some text using a single print function, output should look like following.\n",
    "the variable is 15"
   ]
  },
  {
   "cell_type": "code",
   "execution_count": 10,
   "metadata": {},
   "outputs": [
    {
     "name": "stdout",
     "output_type": "stream",
     "text": [
      "The variable of X is 15\n"
     ]
    }
   ],
   "source": [
    "X = 15\n",
    "print('The variable of X is', X)"
   ]
  },
  {
   "cell_type": "code",
   "execution_count": 19,
   "metadata": {},
   "outputs": [
    {
     "name": "stdout",
     "output_type": "stream",
     "text": [
      "0,\u0000  \n",
      "1,\u0001  2,\u0002  3,\u0003  4,\u0004  5,\u0005  6,\u0006  7,\u0007  8  9,\t  10,\n",
      "  \n",
      "  14,\u000e  ,\f  13,"
     ]
    }
   ],
   "source": [
    "for i in range(15):\n",
    "    print(f\"{i},{chr(i)}\",end= '  ')\n",
    "    if i%10==0:\n",
    "        print()\n"
   ]
  },
  {
   "cell_type": "markdown",
   "metadata": {},
   "source": [
    "12. concatenate the following strings and print the result\n",
    "s1 = 'python '\n",
    "s2 = 'is '\n",
    "s3 = 'great.'"
   ]
  },
  {
   "cell_type": "code",
   "execution_count": 11,
   "metadata": {},
   "outputs": [
    {
     "name": "stdout",
     "output_type": "stream",
     "text": [
      "python is great\n"
     ]
    }
   ],
   "source": [
    "s1 = 'python'\n",
    "s2 = 'is'\n",
    "s3 = 'great'\n",
    "print(s1,s2,s3)"
   ]
  },
  {
   "cell_type": "markdown",
   "metadata": {},
   "source": [
    "13. Print # 20 times without using a loop\n"
   ]
  },
  {
   "cell_type": "code",
   "execution_count": 13,
   "metadata": {},
   "outputs": [
    {
     "name": "stdout",
     "output_type": "stream",
     "text": [
      "####################\n"
     ]
    }
   ],
   "source": [
    "print('#'*20)"
   ]
  },
  {
   "cell_type": "markdown",
   "metadata": {},
   "source": [
    "14. Print numbers from 1 to 9, each on a seperate line, followed by a dot, output should look like the following-\n",
    "     -1\n",
    "     -2\n",
    "     -3\n"
   ]
  },
  {
   "cell_type": "code",
   "execution_count": 12,
   "metadata": {},
   "outputs": [
    {
     "name": "stdout",
     "output_type": "stream",
     "text": [
      "1.\n",
      "2.\n",
      "3.\n",
      "4.\n",
      "5.\n",
      "6.\n",
      "7.\n",
      "8.\n",
      "9.\n"
     ]
    }
   ],
   "source": [
    "for i in range(9):\n",
    "    print(str(i+1)+\".\")"
   ]
  },
  {
   "cell_type": "markdown",
   "metadata": {},
   "source": [
    "15. Ask user to input a sentence and print each word on a different line.\n",
    "\n"
   ]
  },
  {
   "cell_type": "code",
   "execution_count": 12,
   "metadata": {},
   "outputs": [
    {
     "name": "stdout",
     "output_type": "stream",
     "text": [
      "this\n",
      "is\n",
      "a\n",
      "student\n"
     ]
    }
   ],
   "source": [
    "uinp = input(\"enter some lines =>\")\n",
    "for word in uinp.split():\n",
    "    print(word)"
   ]
  },
  {
   "cell_type": "code",
   "execution_count": 7,
   "metadata": {},
   "outputs": [
    {
     "name": "stdout",
     "output_type": "stream",
     "text": [
      "this\n"
     ]
    }
   ],
   "source": [
    "for word in input('enter some lines=>').split(): print(word)"
   ]
  },
  {
   "cell_type": "markdown",
   "metadata": {},
   "source": [
    "16. Ask user to input a string and check if the string ends with '?'w"
   ]
  },
  {
   "cell_type": "code",
   "execution_count": 17,
   "metadata": {},
   "outputs": [
    {
     "name": "stdout",
     "output_type": "stream",
     "text": [
      "15\n"
     ]
    }
   ],
   "source": [
    "x = input(\"enter the value\")\n",
    "print(X)\n",
    "if x.endswith(\"?\"):\n",
    "    print(\"yes sentence is endswith ?\")"
   ]
  },
  {
   "cell_type": "markdown",
   "metadata": {},
   "source": [
    "17. Ask user to input a string and print how many times e appeared in the string"
   ]
  },
  {
   "cell_type": "code",
   "execution_count": 16,
   "metadata": {},
   "outputs": [
    {
     "name": "stdout",
     "output_type": "stream",
     "text": [
      "python is easy to learn\n"
     ]
    },
    {
     "data": {
      "text/plain": [
       "2"
      ]
     },
     "execution_count": 16,
     "metadata": {},
     "output_type": "execute_result"
    }
   ],
   "source": [
    "x = input(\"Enter the value\")\n",
    "print(x)\n",
    "x.count('e')"
   ]
  },
  {
   "cell_type": "markdown",
   "metadata": {},
   "source": [
    "18. Check if the user input is a number"
   ]
  },
  {
   "cell_type": "code",
   "execution_count": 20,
   "metadata": {},
   "outputs": [
    {
     "name": "stdout",
     "output_type": "stream",
     "text": [
      "x\n",
      "Yes enterd data is number\n"
     ]
    }
   ],
   "source": [
    "x =  input(\"Enter the number\")\n",
    "print('x')\n",
    "if x.isnumeric:\n",
    "    print(\"Yes enterd data is number\")"
   ]
  },
  {
   "cell_type": "markdown",
   "metadata": {},
   "source": [
    "19. Remove the extra spaces in beginning and in the end of the following string-\n",
    "\n",
    "     text = '   this is not a good string  '     "
   ]
  },
  {
   "cell_type": "code",
   "execution_count": 21,
   "metadata": {},
   "outputs": [
    {
     "name": "stdout",
     "output_type": "stream",
     "text": [
      "this is not a good string\n"
     ]
    }
   ],
   "source": [
    "text = '   this is not a good string   '\n",
    "t2 = text.strip(\" \")\n",
    "print(t2)"
   ]
  },
  {
   "cell_type": "markdown",
   "metadata": {},
   "source": [
    "20. Ask user to input string, print found if any of the character is upper case."
   ]
  },
  {
   "cell_type": "code",
   "execution_count": 28,
   "metadata": {},
   "outputs": [
    {
     "name": "stdout",
     "output_type": "stream",
     "text": [
      "found\n"
     ]
    }
   ],
   "source": [
    "text = input(\"Enter a value\")\n",
    "for i in text:\n",
    "    if i.isupper():\n",
    "        print(\"found\")\n",
    "print(text)"
   ]
  },
  {
   "cell_type": "markdown",
   "metadata": {},
   "source": [
    "21. Extract names from the following string and store them in a list.\n",
    "\n",
    "    names = 'Joe, David, Mark, Tom, Chris, Robert'\n"
   ]
  },
  {
   "cell_type": "code",
   "execution_count": 25,
   "metadata": {},
   "outputs": [
    {
     "name": "stdout",
     "output_type": "stream",
     "text": [
      "['Joe,', 'David,', 'Mark,', 'Tom,', 'Chris,', 'Robert']\n"
     ]
    }
   ],
   "source": [
    "names = 'Joe, David, Mark, Tom, Chris, Robert'\n",
    "list = names.split()\n",
    "print(list)"
   ]
  },
  {
   "cell_type": "code",
   "execution_count": 29,
   "metadata": {},
   "outputs": [
    {
     "name": "stdout",
     "output_type": "stream",
     "text": [
      "('Joe', 'David', 'Mark', 'Tom', 'Chris', 'Robert')\n"
     ]
    }
   ],
   "source": [
    "print(names)"
   ]
  },
  {
   "cell_type": "markdown",
   "metadata": {},
   "source": [
    "22. In the following string, add aye in the end of every word and print the results.\n",
    "     \n",
    "     text = 'this is some text'"
   ]
  },
  {
   "cell_type": "code",
   "execution_count": 29,
   "metadata": {},
   "outputs": [
    {
     "name": "stdout",
     "output_type": "stream",
     "text": [
      "thisaye\n",
      "isaye\n",
      "someaye\n",
      "textaye\n"
     ]
    }
   ],
   "source": [
    "text = 'this is some text'\n",
    "for i in text.split():\n",
    "    print(i+\"aye\")"
   ]
  },
  {
   "cell_type": "markdown",
   "metadata": {},
   "source": [
    "23. ask user to enter a string and check if the string contains fyi\n"
   ]
  },
  {
   "cell_type": "code",
   "execution_count": 32,
   "metadata": {},
   "outputs": [
    {
     "name": "stdout",
     "output_type": "stream",
     "text": [
      "Ram Ram\n"
     ]
    }
   ],
   "source": [
    "st = input(\"Enter a string\")\n",
    "if \"fyi\" in st:\n",
    "    print(\"found\")\n",
    "print(st)"
   ]
  },
  {
   "cell_type": "markdown",
   "metadata": {},
   "source": [
    "24. Remove all the special characters and numbers from the following string\n",
    "\n",
    "    text = '%p34@y!*-*!t68h#&on404'\n"
   ]
  },
  {
   "cell_type": "code",
   "execution_count": 36,
   "metadata": {},
   "outputs": [
    {
     "name": "stdout",
     "output_type": "stream",
     "text": [
      "pphon\n"
     ]
    }
   ],
   "source": [
    "text = '%p34@p!*-*!68h#&on404'\n",
    "pun = '%34@!*-*!68#&404'\n",
    "for i in pun:\n",
    "    text = text.replace(i,\"\")\n",
    "print(text)"
   ]
  },
  {
   "cell_type": "markdown",
   "metadata": {},
   "source": [
    "25. calculate the average word length of the following paragraph.\n",
    "     \n",
    "    this is a paragraph which is written just for the purpose of providing content to let the average word length "
   ]
  },
  {
   "cell_type": "code",
   "execution_count": 15,
   "metadata": {},
   "outputs": [
    {
     "name": "stdout",
     "output_type": "stream",
     "text": [
      "avrage word length: 4.5\n"
     ]
    }
   ],
   "source": [
    "sentence = ''' this is a paragraph which is written just for the purpose of providing content to let the average word length'''\n",
    "words = sentence.split()\n",
    "#print(words)\n",
    "sizes = []\n",
    "for word in words:\n",
    "    sizes.append(len(word))\n",
    "#print(sizes)\n",
    "print('avrage word length:', sum(sizes)/len(sizes))\n"
   ]
  },
  {
   "cell_type": "code",
   "execution_count": 16,
   "metadata": {},
   "outputs": [
    {
     "name": "stdout",
     "output_type": "stream",
     "text": [
      "avrage word length: 4.5\n"
     ]
    }
   ],
   "source": [
    "# compressed code\n",
    "sizes = [len(word) for word in sentence.split()]\n",
    "print('avrage word length:', sum(sizes)/len(sizes))"
   ]
  },
  {
   "cell_type": "code",
   "execution_count": null,
   "metadata": {},
   "outputs": [],
   "source": [
    "x = [23,33,55,33,777,234,554,456,453,123]\n",
    "even_x = [i for i in x if ]"
   ]
  }
 ],
 "metadata": {
  "interpreter": {
   "hash": "dca92524b078aa222a0bed5aa292c1720541a13394a9b315a2edda4fd221f2d7"
  },
  "kernelspec": {
   "display_name": "Python 3.9.5 ('base')",
   "language": "python",
   "name": "python3"
  },
  "language_info": {
   "codemirror_mode": {
    "name": "ipython",
    "version": 3
   },
   "file_extension": ".py",
   "mimetype": "text/x-python",
   "name": "python",
   "nbconvert_exporter": "python",
   "pygments_lexer": "ipython3",
   "version": "3.9.5"
  },
  "orig_nbformat": 4
 },
 "nbformat": 4,
 "nbformat_minor": 2
}
