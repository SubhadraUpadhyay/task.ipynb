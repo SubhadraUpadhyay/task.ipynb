{
 "cells": [
  {
   "cell_type": "code",
   "execution_count": 2,
   "metadata": {},
   "outputs": [
    {
     "data": {
      "text/plain": [
       "dict"
      ]
     },
     "execution_count": 2,
     "metadata": {},
     "output_type": "execute_result"
    }
   ],
   "source": [
    "a_dict= dict()\n",
    "type(a_dict)"
   ]
  },
  {
   "cell_type": "code",
   "execution_count": 3,
   "metadata": {},
   "outputs": [
    {
     "data": {
      "text/plain": [
       "dict"
      ]
     },
     "execution_count": 3,
     "metadata": {},
     "output_type": "execute_result"
    }
   ],
   "source": [
    "a_dict={}\n",
    "type(a_dict)"
   ]
  },
  {
   "cell_type": "code",
   "execution_count": 4,
   "metadata": {},
   "outputs": [],
   "source": [
    "a_dict={'a':1, 'b':2,'c':3}"
   ]
  },
  {
   "cell_type": "code",
   "execution_count": 5,
   "metadata": {},
   "outputs": [
    {
     "data": {
      "text/plain": [
       "1"
      ]
     },
     "execution_count": 5,
     "metadata": {},
     "output_type": "execute_result"
    }
   ],
   "source": [
    "a_dict['a']"
   ]
  },
  {
   "cell_type": "code",
   "execution_count": 6,
   "metadata": {},
   "outputs": [
    {
     "data": {
      "text/plain": [
       "2"
      ]
     },
     "execution_count": 6,
     "metadata": {},
     "output_type": "execute_result"
    }
   ],
   "source": [
    "a_dict.get('b')"
   ]
  },
  {
   "cell_type": "code",
   "execution_count": 7,
   "metadata": {},
   "outputs": [
    {
     "data": {
      "text/plain": [
       "{'A': 'Arroplan', 'B': 'ball', 'C': 'caw'}"
      ]
     },
     "execution_count": 7,
     "metadata": {},
     "output_type": "execute_result"
    }
   ],
   "source": [
    "a_dict = {'A':'Arroplan', 'B':'ball', 'C':'caw'}\n",
    "a_dict"
   ]
  },
  {
   "cell_type": "code",
   "execution_count": 8,
   "metadata": {},
   "outputs": [],
   "source": [
    "a_dict['B']= 'bat'"
   ]
  },
  {
   "cell_type": "code",
   "execution_count": 9,
   "metadata": {},
   "outputs": [
    {
     "data": {
      "text/plain": [
       "{'A': 'Arroplan', 'B': 'bat', 'C': 'caw'}"
      ]
     },
     "execution_count": 9,
     "metadata": {},
     "output_type": "execute_result"
    }
   ],
   "source": [
    "a_dict"
   ]
  },
  {
   "cell_type": "code",
   "execution_count": 10,
   "metadata": {},
   "outputs": [],
   "source": [
    "a_dict['c']= 'small cat'"
   ]
  },
  {
   "cell_type": "code",
   "execution_count": 11,
   "metadata": {},
   "outputs": [
    {
     "data": {
      "text/plain": [
       "{'A': 'Arroplan', 'B': 'bat', 'C': 'caw', 'c': 'small cat'}"
      ]
     },
     "execution_count": 11,
     "metadata": {},
     "output_type": "execute_result"
    }
   ],
   "source": [
    "a_dict"
   ]
  },
  {
   "cell_type": "code",
   "execution_count": 12,
   "metadata": {},
   "outputs": [],
   "source": [
    "a_dict['C']=['cut', 'car' , 'cart']"
   ]
  },
  {
   "cell_type": "code",
   "execution_count": 13,
   "metadata": {},
   "outputs": [
    {
     "data": {
      "text/plain": [
       "{'A': 'Arroplan', 'B': 'bat', 'C': ['cut', 'car', 'cart'], 'c': 'small cat'}"
      ]
     },
     "execution_count": 13,
     "metadata": {},
     "output_type": "execute_result"
    }
   ],
   "source": [
    "a_dict"
   ]
  },
  {
   "cell_type": "code",
   "execution_count": 2,
   "metadata": {},
   "outputs": [
    {
     "data": {
      "text/plain": [
       "{'Sneha': [44, 55, 66, 77, 34],\n",
       " 'Tripti': [92, 43, 56, 34, 89],\n",
       " 'Tejas': [32, 54, 76, 87, 98],\n",
       " 'Suman': [92, 88, 99, 98, 76],\n",
       " 'Kabita': [54, 76, 87, 98, 34]}"
      ]
     },
     "execution_count": 2,
     "metadata": {},
     "output_type": "execute_result"
    }
   ],
   "source": [
    "student={'Sneha':[44,55,66,77,34],'Tripti':[92,43,56,34,89],'Tejas':[32,54,76,87,98],'Suman':[92,88,99,98,76],'Kabita':[54,76,87,98,34]}\n",
    "student"
   ]
  },
  {
   "cell_type": "code",
   "execution_count": 7,
   "metadata": {},
   "outputs": [],
   "source": [
    "report = {\n",
    "    'Ram':{\n",
    "        'English': 67,\n",
    "        'Hindi': 77,\n",
    "        'Maths': 66,\n",
    "        'Science': 47,\n",
    "        'Arts': 87,\n",
    "    },\n",
    "    'Rohan':{\n",
    "        'English': 67,\n",
    "        'Hindi': 77,\n",
    "        'Maths': 66,\n",
    "        'Science': 47,\n",
    "        'Arts': 87,\n",
    "    },\n",
    "    'Reena':{\n",
    "        'English': 67,\n",
    "        'Hindi': 77,\n",
    "        'Maths': 66,\n",
    "        'Science': 47,\n",
    "        'Arts': 87,\n",
    "    },\n",
    "    'Rohit':{\n",
    "        'English': 67,\n",
    "        'Hindi': 77,\n",
    "        'Maths': 66,\n",
    "        'Science': 47,\n",
    "        'Arts': 87,\n",
    "    },\n",
    "    'Rita':{\n",
    "        'English': 67,\n",
    "        'Hindi': 77,\n",
    "        'Maths': 66,\n",
    "        'Science': 47,\n",
    "        'Arts': 87,\n",
    "    },\n",
    "}"
   ]
  },
  {
   "cell_type": "code",
   "execution_count": 8,
   "metadata": {},
   "outputs": [
    {
     "data": {
      "text/plain": [
       "{'Ram': {'English': 67, 'Hindi': 77, 'Maths': 66, 'Science': 47, 'Arts': 87},\n",
       " 'Rohan': {'English': 67, 'Hindi': 77, 'Maths': 66, 'Science': 47, 'Arts': 87},\n",
       " 'Reena': {'English': 67, 'Hindi': 77, 'Maths': 66, 'Science': 47, 'Arts': 87},\n",
       " 'Rohit': {'English': 67, 'Hindi': 77, 'Maths': 66, 'Science': 47, 'Arts': 87},\n",
       " 'Rita': {'English': 67, 'Hindi': 77, 'Maths': 66, 'Science': 47, 'Arts': 87}}"
      ]
     },
     "execution_count": 8,
     "metadata": {},
     "output_type": "execute_result"
    }
   ],
   "source": [
    "report"
   ]
  }
 ],
 "metadata": {
  "interpreter": {
   "hash": "dca92524b078aa222a0bed5aa292c1720541a13394a9b315a2edda4fd221f2d7"
  },
  "kernelspec": {
   "display_name": "Python 3.9.5 ('base')",
   "language": "python",
   "name": "python3"
  },
  "language_info": {
   "codemirror_mode": {
    "name": "ipython",
    "version": 3
   },
   "file_extension": ".py",
   "mimetype": "text/x-python",
   "name": "python",
   "nbconvert_exporter": "python",
   "pygments_lexer": "ipython3",
   "version": "3.9.5"
  },
  "orig_nbformat": 4
 },
 "nbformat": 4,
 "nbformat_minor": 2
}
