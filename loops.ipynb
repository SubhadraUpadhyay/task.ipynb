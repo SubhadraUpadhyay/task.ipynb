{
 "cells": [
  {
   "cell_type": "markdown",
   "metadata": {},
   "source": [
    "Loops"
   ]
  },
  {
   "cell_type": "code",
   "execution_count": 19,
   "metadata": {},
   "outputs": [
    {
     "name": "stdout",
     "output_type": "stream",
     "text": [
      "P\n",
      "Y\n",
      "T\n",
      "H\n",
      "O\n",
      "N\n"
     ]
    }
   ],
   "source": [
    "X = \"PYTHON\"\n",
    "for i in X:\n",
    "    print(i)\n"
   ]
  },
  {
   "cell_type": "code",
   "execution_count": 20,
   "metadata": {},
   "outputs": [
    {
     "name": "stdout",
     "output_type": "stream",
     "text": [
      "i have apple\n",
      "i have banana\n",
      "i have lemon\n"
     ]
    }
   ],
   "source": [
    "fruits = ['apple','banana','lemon']\n",
    "for item in fruits:\n",
    "    print(f'i have {item}')"
   ]
  },
  {
   "cell_type": "code",
   "execution_count": 21,
   "metadata": {},
   "outputs": [],
   "source": [
    "movies = ['The Holy Grail','The life of Brian','The Meaning of Life','Terminator','Pulp Fiction']"
   ]
  },
  {
   "cell_type": "code",
   "execution_count": 22,
   "metadata": {},
   "outputs": [
    {
     "name": "stdout",
     "output_type": "stream",
     "text": [
      "The Holy Grail 14\n",
      "The life of Brian 17\n",
      "The Meaning of Life 19\n",
      "Terminator 10\n",
      "Pulp Fiction 12\n"
     ]
    }
   ],
   "source": [
    "for movie in movies:\n",
    "    print(movie,len(movie))"
   ]
  },
  {
   "cell_type": "code",
   "execution_count": 23,
   "metadata": {},
   "outputs": [
    {
     "name": "stdout",
     "output_type": "stream",
     "text": [
      "0-The Holy Grail\n",
      "1-The life of Brian\n",
      "2-The Meaning of Life\n",
      "3-Terminator\n",
      "4-Pulp Fiction\n"
     ]
    }
   ],
   "source": [
    "# for loop with counter\n",
    "for i,name in enumerate(movies):\n",
    "    print (f\"{i}-{name}\")\n",
    "    "
   ]
  },
  {
   "cell_type": "markdown",
   "metadata": {},
   "source": [
    "range()function"
   ]
  },
  {
   "cell_type": "code",
   "execution_count": 24,
   "metadata": {},
   "outputs": [
    {
     "name": "stdout",
     "output_type": "stream",
     "text": [
      "you got point 0\n",
      "you got point 1\n",
      "you got point 2\n",
      "you got point 3\n",
      "you got point 4\n",
      "you got point 5\n"
     ]
    }
   ],
   "source": [
    "for i in range(6):\n",
    "    print('you got point',i)"
   ]
  },
  {
   "cell_type": "code",
   "execution_count": 25,
   "metadata": {},
   "outputs": [
    {
     "name": "stdout",
     "output_type": "stream",
     "text": [
      "level 1\n",
      "level 4\n",
      "level 7\n"
     ]
    }
   ],
   "source": [
    "for num in range(1,10,3):\n",
    "    print('level',num)"
   ]
  },
  {
   "cell_type": "code",
   "execution_count": 26,
   "metadata": {},
   "outputs": [
    {
     "name": "stdout",
     "output_type": "stream",
     "text": [
      "sheep 2\n",
      "sheep 3\n",
      "sheep 4\n",
      "sheep 5\n",
      "sheep 6\n",
      "sheep 7\n",
      "sheep 8\n",
      "sheep 9\n",
      "sheep 10\n"
     ]
    }
   ],
   "source": [
    "for num in range(2,11):\n",
    "    print('sheep',num)"
   ]
  },
  {
   "cell_type": "code",
   "execution_count": 2,
   "metadata": {},
   "outputs": [
    {
     "name": "stdout",
     "output_type": "stream",
     "text": [
      "level 2\n",
      "level 3\n",
      "level 4\n",
      "level 5\n",
      "level 6\n",
      "level 7\n",
      "level 8\n",
      "level 9\n",
      "level 10\n",
      "level 11\n",
      "level 12\n",
      "level 13\n",
      "level 14\n",
      "level 15\n",
      "level 16\n",
      "level 17\n",
      "level 18\n",
      "level 19\n",
      "level 20\n",
      "level 21\n",
      "level 22\n",
      "level 23\n",
      "level 24\n",
      "level 25\n",
      "level 26\n",
      "level 27\n",
      "level 28\n",
      "level 29\n",
      "level 30\n",
      "level 31\n",
      "level 32\n",
      "level 33\n",
      "level 34\n",
      "level 35\n",
      "level 36\n",
      "level 37\n",
      "level 38\n",
      "level 39\n",
      "level 40\n",
      "level 41\n",
      "level 42\n",
      "level 43\n"
     ]
    }
   ],
   "source": [
    "for num in range(2,44):\n",
    "  print('level',num)\n",
    "    \n"
   ]
  },
  {
   "cell_type": "code",
   "execution_count": 28,
   "metadata": {},
   "outputs": [
    {
     "name": "stdout",
     "output_type": "stream",
     "text": [
      "10\n",
      "9\n",
      "8\n",
      "7\n",
      "6\n"
     ]
    }
   ],
   "source": [
    "# reverse loop\n",
    "for num in range(10,5,-1):\n",
    "    print(num)"
   ]
  },
  {
   "cell_type": "code",
   "execution_count": 29,
   "metadata": {},
   "outputs": [
    {
     "name": "stdout",
     "output_type": "stream",
     "text": [
      "\n",
      "Na\n",
      "NaNa\n",
      "NaNaNa\n",
      "NaNaNaNa\n",
      "NaNaNaNaNa\n",
      "NaNaNaNaNaNa\n",
      "NaNaNaNaNaNaNa\n",
      "NaNaNaNaNaNaNaNa\n",
      "NaNaNaNaNaNaNaNaNa\n"
     ]
    }
   ],
   "source": [
    "# pattern loop\n",
    "for i in range(10):\n",
    "    print(i*'Na')"
   ]
  },
  {
   "cell_type": "code",
   "execution_count": 30,
   "metadata": {},
   "outputs": [
    {
     "name": "stdout",
     "output_type": "stream",
     "text": [
      "\n",
      "Subhadra\n",
      "SubhadraSubhadra\n",
      "SubhadraSubhadraSubhadra\n",
      "SubhadraSubhadraSubhadraSubhadra\n"
     ]
    }
   ],
   "source": [
    "for i in range(5):\n",
    "    print(i*'Subhadra')"
   ]
  },
  {
   "cell_type": "markdown",
   "metadata": {},
   "source": [
    "#### 1. Write to print if number are even or odd from 1,100\n",
    "#### 2. Write to print the sum of all even numbers from 2 to 101\n",
    "#### 3. Write to print the average of all odd numbers from 1 to 100"
   ]
  },
  {
   "cell_type": "code",
   "execution_count": 31,
   "metadata": {},
   "outputs": [
    {
     "name": "stdout",
     "output_type": "stream",
     "text": [
      "The number is even\n"
     ]
    }
   ],
   "source": [
    " num = int (input (\"Enter any number to test whether it is odd or even:\"))\n",
    "if (num % 2) == 0:\n",
    "    print (\"The number is even\")\n",
    "else:\n",
    "    print (\"The provided number is odd\")"
   ]
  },
  {
   "cell_type": "code",
   "execution_count": 3,
   "metadata": {},
   "outputs": [
    {
     "name": "stdout",
     "output_type": "stream",
     "text": [
      "odd 1\n",
      "even 2\n",
      "odd 3\n",
      "even 4\n",
      "odd 5\n",
      "even 6\n",
      "odd 7\n",
      "even 8\n",
      "odd 9\n",
      "even 10\n",
      "odd 11\n",
      "even 12\n",
      "odd 13\n",
      "even 14\n",
      "odd 15\n",
      "even 16\n",
      "odd 17\n",
      "even 18\n",
      "odd 19\n",
      "even 20\n",
      "odd 21\n",
      "even 22\n",
      "odd 23\n",
      "even 24\n",
      "odd 25\n",
      "even 26\n",
      "odd 27\n",
      "even 28\n",
      "odd 29\n",
      "even 30\n",
      "odd 31\n",
      "even 32\n",
      "odd 33\n",
      "even 34\n",
      "odd 35\n",
      "even 36\n",
      "odd 37\n",
      "even 38\n",
      "odd 39\n",
      "even 40\n",
      "odd 41\n",
      "even 42\n",
      "odd 43\n",
      "even 44\n",
      "odd 45\n",
      "even 46\n",
      "odd 47\n",
      "even 48\n",
      "odd 49\n",
      "even 50\n",
      "odd 51\n",
      "even 52\n",
      "odd 53\n",
      "even 54\n",
      "odd 55\n",
      "even 56\n",
      "odd 57\n",
      "even 58\n",
      "odd 59\n",
      "even 60\n",
      "odd 61\n",
      "even 62\n",
      "odd 63\n",
      "even 64\n",
      "odd 65\n",
      "even 66\n",
      "odd 67\n",
      "even 68\n",
      "odd 69\n",
      "even 70\n",
      "odd 71\n",
      "even 72\n",
      "odd 73\n",
      "even 74\n",
      "odd 75\n",
      "even 76\n",
      "odd 77\n",
      "even 78\n",
      "odd 79\n",
      "even 80\n",
      "odd 81\n",
      "even 82\n",
      "odd 83\n",
      "even 84\n",
      "odd 85\n",
      "even 86\n",
      "odd 87\n",
      "even 88\n",
      "odd 89\n",
      "even 90\n",
      "odd 91\n",
      "even 92\n",
      "odd 93\n",
      "even 94\n",
      "odd 95\n",
      "even 96\n",
      "odd 97\n",
      "even 98\n",
      "odd 99\n"
     ]
    }
   ],
   "source": [
    "# 1\n",
    "for i in range(1,100):\n",
    "    if i %2 == 0:\n",
    "        print('even',i)\n",
    "    else:\n",
    "       print('odd',i)\n",
    "         "
   ]
  },
  {
   "cell_type": "code",
   "execution_count": 17,
   "metadata": {},
   "outputs": [
    {
     "name": "stdout",
     "output_type": "stream",
     "text": [
      "total of all even number=> 2550\n"
     ]
    }
   ],
   "source": [
    "# simple version\n",
    "total = 0\n",
    "for i in range(2,101):\n",
    "    if i % 2 == 0:\n",
    "        total += i\n",
    "print(\"total of all even number=>\",total)"
   ]
  },
  {
   "cell_type": "code",
   "execution_count": 3,
   "metadata": {},
   "outputs": [
    {
     "name": "stdout",
     "output_type": "stream",
     "text": [
      "total of all odd number=> 2450\n"
     ]
    }
   ],
   "source": [
    "total = 0\n",
    "for i in range(1,100):\n",
    "    if i % 2 == 0:\n",
    "        total += i\n",
    "print(\"total of all odd number=>\",total)"
   ]
  },
  {
   "cell_type": "code",
   "execution_count": 16,
   "metadata": {},
   "outputs": [
    {
     "name": "stdout",
     "output_type": "stream",
     "text": [
      "1,2,3,4,5\n",
      "2,4,6,8,10\n",
      "3,6,9,12,15\n",
      "4,8,12,16,20\n",
      "5,10,15,20,25,30\n"
     ]
    }
   ],
   "source": [
    "# naive implementation\n",
    "print(1,2,3,4,5,sep=',')\n",
    "print(2,4,6,8,10,sep=',')\n",
    "print(3,6,9,12,15,sep=',')\n",
    "print(4,8,12,16,20,sep=',')\n",
    "print(5,10,15,20,25,30,sep=',')\n"
   ]
  },
  {
   "cell_type": "code",
   "execution_count": 11,
   "metadata": {},
   "outputs": [
    {
     "name": "stdout",
     "output_type": "stream",
     "text": [
      "1,2,3,4,5\n",
      "2,4,6,8,10\n",
      "3,6,9,12,15\n",
      "4,8,12,16,20\n",
      "5,10,15,20,25\n"
     ]
    }
   ],
   "source": [
    "# better implemenation\n",
    "for i in range(1,6):\n",
    "    print(1*i,2*i,3*i,4*i,5*i,sep=',')"
   ]
  },
  {
   "cell_type": "code",
   "execution_count": 23,
   "metadata": {},
   "outputs": [
    {
     "name": "stdout",
     "output_type": "stream",
     "text": [
      "1,2,3,4,\n",
      "2,4,6,8,\n",
      "3,6,9,12,\n",
      "4,8,12,16,\n"
     ]
    }
   ],
   "source": [
    "# best implemenation -> dynamics row and col\n",
    "for row in range(1,5):\n",
    "    for col in range(1,5):\n",
    "        print(row*col,end=',')\n",
    "    print()"
   ]
  },
  {
   "cell_type": "code",
   "execution_count": 15,
   "metadata": {},
   "outputs": [
    {
     "name": "stdout",
     "output_type": "stream",
     "text": [
      "1 2 3 4 5 \n",
      "2 4 6 8 10 \n",
      "3 6 9 12 15 \n",
      "4 8 12 16 20 \n",
      "5 10 15 20 25 \n"
     ]
    }
   ],
   "source": [
    "for row in range(1,6):\n",
    "    for col in range(1,6):\n",
    "        print(row*col,end=' ')\n",
    "    print()"
   ]
  },
  {
   "cell_type": "markdown",
   "metadata": {},
   "source": [
    "While loop"
   ]
  },
  {
   "cell_type": "code",
   "execution_count": 17,
   "metadata": {},
   "outputs": [
    {
     "name": "stdout",
     "output_type": "stream",
     "text": [
      "run\n",
      "run\n",
      "run\n",
      "run\n",
      "stop\n"
     ]
    }
   ],
   "source": [
    "X = 1\n",
    "while X < 5:\n",
    "    print('run')\n",
    "    X += 1\n",
    "print('stop')"
   ]
  },
  {
   "cell_type": "code",
   "execution_count": 18,
   "metadata": {},
   "outputs": [
    {
     "name": "stdout",
     "output_type": "stream",
     "text": [
      "The sum is 55\n"
     ]
    }
   ],
   "source": [
    "# a complex program\n",
    "n=10\n",
    "\n",
    "# initialize sum and counter\n",
    "sum = 0\n",
    "i = 1\n",
    "\n",
    "while i <= n:\n",
    "    sum = sum + i\n",
    "    i = i+1     # update counter\n",
    "\n",
    "# print the sum\n",
    "print(\"The sum is\",sum)"
   ]
  },
  {
   "cell_type": "code",
   "execution_count": 22,
   "metadata": {},
   "outputs": [
    {
     "name": "stdout",
     "output_type": "stream",
     "text": [
      "total chars in poem is 0\n"
     ]
    }
   ],
   "source": [
    "poem=''\n",
    "while input('do you want to write another link?[y/n')=='y':\n",
    "    line = input(\">>>\")\n",
    "    poem += line\n",
    "chars = len(poem)\n",
    "print(f\"total chars in poem is {chars}\")\n"
   ]
  },
  {
   "cell_type": "markdown",
   "metadata": {},
   "source": [
    "Break & Countinue"
   ]
  },
  {
   "cell_type": "code",
   "execution_count": 23,
   "metadata": {},
   "outputs": [
    {
     "name": "stdout",
     "output_type": "stream",
     "text": [
      "55\n"
     ]
    }
   ],
   "source": [
    "# continue\n",
    "X = [1,2,3,4,5,6,7,8,9,10]\n",
    "total = 0 \n",
    "for i in X:\n",
    "    if isinstance(i,str):\n",
    "        continue\n",
    "    total += i\n",
    "print(total)"
   ]
  },
  {
   "cell_type": "code",
   "execution_count": 29,
   "metadata": {},
   "outputs": [
    {
     "name": "stdout",
     "output_type": "stream",
     "text": [
      "55\n"
     ]
    }
   ],
   "source": [
    "# continue\n",
    "X = [1,2,'',3,4,5,'',6,7,'',8,9,10]\n",
    "total = 0 \n",
    "for i in X:\n",
    "    if isinstance(i,str):\n",
    "        continue\n",
    "    total += i\n",
    "print(total)\n"
   ]
  },
  {
   "cell_type": "code",
   "execution_count": 32,
   "metadata": {},
   "outputs": [
    {
     "name": "stdout",
     "output_type": "stream",
     "text": [
      "total chars 8\n",
      "Ram Ram\n",
      "\n"
     ]
    }
   ],
   "source": [
    "poem= ''\n",
    "while True: # infinite\n",
    "    line = input(\"enter poem line>>\") \n",
    "    if line:         # if line has lan greater than 0\n",
    "        poem += line+'\\n'\n",
    "    else:\n",
    "        break\n",
    "print(\"total chars\",len(poem))\n",
    "print(poem)\n",
    "\n"
   ]
  },
  {
   "cell_type": "code",
   "execution_count": 2,
   "metadata": {},
   "outputs": [
    {
     "name": "stdout",
     "output_type": "stream",
     "text": [
      "total chars 14\n",
      "Jay Shree Ramn\n"
     ]
    }
   ],
   "source": [
    "poem=''\n",
    "while True:\n",
    "    line = input('enter poem line')\n",
    "    if line:\n",
    "        poem += line+ 'n'\n",
    "    else:\n",
    "        break\n",
    "print('total chars',len(poem))\n",
    "print(poem)"
   ]
  },
  {
   "cell_type": "code",
   "execution_count": 13,
   "metadata": {},
   "outputs": [
    {
     "name": "stdout",
     "output_type": "stream",
     "text": [
      "1,2,3,4,5\n",
      "2,4,6,8,10\n",
      "3,6,9,12,15\n",
      "4,8,12,16,20\n",
      "5,10,15,20,25\n"
     ]
    }
   ],
   "source": [
    "\n",
    "for i in range(1,6):\n",
    "    print(1*i,2*i,3*i,4*i,5*i,sep=',')\n",
    "    \n"
   ]
  },
  {
   "cell_type": "code",
   "execution_count": 5,
   "metadata": {},
   "outputs": [
    {
     "name": "stdout",
     "output_type": "stream",
     "text": [
      "4,8\n",
      "8,16\n"
     ]
    }
   ],
   "source": [
    "for i in range(2,5,2):\n",
    "    print(2*i,4*i,sep=',')"
   ]
  },
  {
   "cell_type": "code",
   "execution_count": 1,
   "metadata": {},
   "outputs": [
    {
     "name": "stdout",
     "output_type": "stream",
     "text": [
      "Harry\n",
      "Larry\n",
      "Carry\n",
      "Marry\n"
     ]
    }
   ],
   "source": [
    "list1 = [\"Harry\",\"Larry\", \"Carry\", \"Marry\"]\n",
    "\n",
    "for item in list1:\n",
    "    print(item)"
   ]
  },
  {
   "cell_type": "code",
   "execution_count": 5,
   "metadata": {},
   "outputs": [
    {
     "name": "stdout",
     "output_type": "stream",
     "text": [
      "Harry and lolly is 2\n",
      "Larry and lolly is 55\n",
      "Carry and lolly is 77\n",
      "Marry and lolly is 7\n"
     ]
    }
   ],
   "source": [
    "list1 =[[\"Harry\", 2], [\"Larry\",55], \n",
    "[\"Carry\",77], [\"Marry\", 7]]\n",
    "\n",
    "for item,lollypop in list1:\n",
    "    print(item, \"and lolly is\", lollypop)"
   ]
  },
  {
   "cell_type": "code",
   "execution_count": 8,
   "metadata": {},
   "outputs": [],
   "source": [
    "items = [int, float, \"Harry\", 3,4,5,8,9,23,44,54,22,12]\n",
    "\n",
    "for item in items:\n",
    "    if str (items). isnumeric() and item>6:\n",
    "        print(item)\n"
   ]
  },
  {
   "cell_type": "code",
   "execution_count": null,
   "metadata": {},
   "outputs": [],
   "source": [
    "s = 'bitanupadhyay'\n"
   ]
  }
 ],
 "metadata": {
  "interpreter": {
   "hash": "dca92524b078aa222a0bed5aa292c1720541a13394a9b315a2edda4fd221f2d7"
  },
  "kernelspec": {
   "display_name": "Python 3.9.5 ('base')",
   "language": "python",
   "name": "python3"
  },
  "language_info": {
   "codemirror_mode": {
    "name": "ipython",
    "version": 3
   },
   "file_extension": ".py",
   "mimetype": "text/x-python",
   "name": "python",
   "nbconvert_exporter": "python",
   "pygments_lexer": "ipython3",
   "version": "3.9.5"
  },
  "orig_nbformat": 4
 },
 "nbformat": 4,
 "nbformat_minor": 2
}
