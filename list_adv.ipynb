{
 "cells": [
  {
   "cell_type": "markdown",
   "metadata": {},
   "source": [
    "### What to learn\n",
    "- Comprehension\n",
    "- Lambda,map & filter"
   ]
  },
  {
   "cell_type": "markdown",
   "metadata": {},
   "source": [
    "If you are doing a program where you need to get a **list(sequence) of data from and Existing data by performing some opreation on existing data,then you can use the concept of comprehension or map/filter to make your code smaller and faster"
   ]
  },
  {
   "cell_type": "code",
   "execution_count": 1,
   "metadata": {},
   "outputs": [
    {
     "name": "stdout",
     "output_type": "stream",
     "text": [
      "[6, 7, 8, 9, 10, 11, 12]\n"
     ]
    }
   ],
   "source": [
    "X = [1,2,3,4,5,6,7]\n",
    "X5 = [] # list empty\n",
    "for i in X:\n",
    "    o = i + 5\n",
    "    X5.append(o)\n",
    "print(X5)"
   ]
  },
  {
   "cell_type": "markdown",
   "metadata": {},
   "source": [
    "### comprehension syntex\n",
    "- simple\n",
    "```\n",
    "newlist = [operation loop]\n",
    "```\n",
    "- condition\n",
    "```\n",
    "newlist = [opretion loop condition]"
   ]
  },
  {
   "cell_type": "code",
   "execution_count": 2,
   "metadata": {},
   "outputs": [
    {
     "name": "stdout",
     "output_type": "stream",
     "text": [
      "[6, 7, 8, 9, 10, 11, 12]\n"
     ]
    }
   ],
   "source": [
    "X5 = [i + 5 for i in X]\n",
    "print(X5)"
   ]
  },
  {
   "cell_type": "code",
   "execution_count": 3,
   "metadata": {},
   "outputs": [
    {
     "name": "stdout",
     "output_type": "stream",
     "text": [
      "[6, 7, 8, 9, 10, 11, 12]\n"
     ]
    }
   ],
   "source": [
    "xsqr = [i ** 2 for i in X]\n",
    "print(X5)"
   ]
  },
  {
   "cell_type": "code",
   "execution_count": 4,
   "metadata": {},
   "outputs": [
    {
     "name": "stdout",
     "output_type": "stream",
     "text": [
      "[4, 16, 36, 64, 100]\n"
     ]
    }
   ],
   "source": [
    "# normal version\n",
    "X = [1,2,3,4,5,6,7,8,9,10]\n",
    "xevensqr = []\n",
    "for i in X:\n",
    "    if i % 2 == 0:\n",
    "        xevensqr.append(i**2)\n",
    "print(xevensqr)"
   ]
  },
  {
   "cell_type": "code",
   "execution_count": 5,
   "metadata": {},
   "outputs": [
    {
     "name": "stdout",
     "output_type": "stream",
     "text": [
      "[8, 64, 216, 512, 1000]\n"
     ]
    }
   ],
   "source": [
    "# python version\n",
    "xevencube = [i**3 for i in X if i%2==0]\n",
    "print(xevencube)"
   ]
  },
  {
   "cell_type": "code",
   "execution_count": 6,
   "metadata": {},
   "outputs": [
    {
     "name": "stdout",
     "output_type": "stream",
     "text": [
      "[-9, -7, -5, -3, -1]\n"
     ]
    }
   ],
   "source": [
    "xevensubt = [i-10 for i in X if i%2!=0]\n",
    "print(xevensubt)"
   ]
  },
  {
   "cell_type": "code",
   "execution_count": 7,
   "metadata": {},
   "outputs": [
    {
     "name": "stdout",
     "output_type": "stream",
     "text": [
      "['Mason', 'Grey', 'Lawson', 'Maxmillon']\n"
     ]
    }
   ],
   "source": [
    "names =['Alex Mason','Adam Grey','Dana Lawson','Wax Maxmillon']\n",
    "surnuames = []\n",
    "for n in names:\n",
    "    sn = n.split() [-1]  # get the last word\n",
    "    surnuames.append(sn)\n",
    "print(surnuames)"
   ]
  },
  {
   "cell_type": "code",
   "execution_count": 8,
   "metadata": {},
   "outputs": [],
   "source": [
    "surnames  = [n.split() [-1] for n in names]\n"
   ]
  },
  {
   "cell_type": "markdown",
   "metadata": {},
   "source": [
    "### TASK\n",
    "### write a comprehension program that  will return all the employess with 'a' in their names from an existing list of 25 employess"
   ]
  },
  {
   "cell_type": "code",
   "execution_count": 9,
   "metadata": {},
   "outputs": [
    {
     "name": "stdout",
     "output_type": "stream",
     "text": [
      "['Subhadra', 'Pratima', 'Suman', 'Sita', 'Aaroo', 'Komal', 'Kamal', 'Karan', 'Anurag', 'Vaibhav', 'Shiva', 'Aman', 'Anurag', 'Ankita', 'Gauri', 'Kiran', 'Suraj', 'Krishna']\n"
     ]
    }
   ],
   "source": [
    "names = ['Subhadra','Pratima','Suman','Sita','Ankit','Aaroo','Komal','Kamal','Karan','Anurag','Vaibhav','Khushbu','Kusum','Kumkum','Shiva','Shubhi',\n",
    "'Sumit','Aman','Anurag','Ankita','Gauri','Kiran','Suraj','Rishi','Krishna']\n",
    "n = []\n",
    "for i in names:\n",
    "    if 'a' in i:\n",
    "        n.append(i)\n",
    "print(n)"
   ]
  },
  {
   "cell_type": "code",
   "execution_count": 10,
   "metadata": {},
   "outputs": [
    {
     "name": "stdout",
     "output_type": "stream",
     "text": [
      "[None, None, None, None, None, None, None, None, None, None, None, None, None, None, None, None, None, None, None, None, None, None, None, None, None]\n"
     ]
    }
   ],
   "source": [
    "names = [n.append(i) for i in names]\n",
    "print(names)"
   ]
  },
  {
   "cell_type": "code",
   "execution_count": null,
   "metadata": {},
   "outputs": [],
   "source": []
  },
  {
   "cell_type": "code",
   "execution_count": null,
   "metadata": {},
   "outputs": [],
   "source": []
  },
  {
   "cell_type": "code",
   "execution_count": null,
   "metadata": {},
   "outputs": [],
   "source": []
  }
 ],
 "metadata": {
  "interpreter": {
   "hash": "dca92524b078aa222a0bed5aa292c1720541a13394a9b315a2edda4fd221f2d7"
  },
  "kernelspec": {
   "display_name": "Python 3.9.5 ('base')",
   "language": "python",
   "name": "python3"
  },
  "language_info": {
   "codemirror_mode": {
    "name": "ipython",
    "version": 3
   },
   "file_extension": ".py",
   "mimetype": "text/x-python",
   "name": "python",
   "nbconvert_exporter": "python",
   "pygments_lexer": "ipython3",
   "version": "3.9.5"
  },
  "orig_nbformat": 4
 },
 "nbformat": 4,
 "nbformat_minor": 2
}
